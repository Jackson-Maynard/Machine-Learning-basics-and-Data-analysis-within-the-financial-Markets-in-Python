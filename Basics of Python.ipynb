{
 "cells": [
  {
   "cell_type": "markdown",
   "metadata": {},
   "source": [
    "## The basics of Python\n",
    "\n",
    "### Interpreted vs. compiled languages\n",
    "\n",
    "Python is an interpreted language. This means that when you write code in Python it isn't compiled before runtime to machine code for execution. Instead an interpreter executed the language during runtime. It can be more easier run on multiple platforms. Languages like C are compiled languages and need to compiled for each platform they run on. Typically, compiled languages will be quicker to execute. \n",
    "\n",
    "The disadvantage of interpreted languages is they don't do static type-checking, which can help pick up programming errors before runtime. In newer versions of Python though, you can do type annotations on your variables. At this stage the actual Python interpreter won't enforce static type checking. Hence, to do static type checking of these type annotations you need to use an IDE like PyCharm or run a type checker like mypy.\n",
    "\n",
    "### Imperative vs. functional programming\n",
    "\n",
    "Python is predominently an imperative programming language, like most common programming langauges such as C. A series of introductions are executed in a specific order which updates the internal state of the program. Typically, you have code organised into loops.\n",
    "\n",
    "Python also includes some elements of functional programming. In functional programming languages you break down a problem in a number of functions. You don't keep track of the internal state. Functions are called in recursive manner. Haskell and Lisp are examples of well known functional languages.\n",
    "\n",
    "### What is the current version of Python?\n",
    "\n",
    "The current version of Python is 3 (the latest version is 3.7). We would strongly recommend using Python 3 where possible. However, there are still a lot of developers using the older Python 2 (latest version is 2.7), mainly because they have a lot of legacy code written in Python 2, which hasn't yet been migrated to 3. The differences between 2 and 3 aren't huge, but generally speaking it isn't an automatic process to migrate code.\n",
    "\n",
    "### Why use Python?\n",
    "\n",
    "Python code isn't the fastest to execute. Furthermore it isn't the most widely used language. Lower level languages like C++ (and also Java) have historically been used much more and are also much faster. However, Python does excel at being a relatively easy to use language. When we factor in how fast code can execute, we also need to understand how long it will take to write. Python has become much more popular in recent years (see https://hackernoon.com/top-3-most-popular-programming-languages-in-2018-and-their-annual-salaries-51b4a7354e06).\n",
    "\n",
    "### Who uses Python?\n",
    "\n",
    "Python is a general purpose language, hence it can be used in many different domains (see https://www.python.org/about/apps/), such as:\n",
    "\n",
    "* web development\n",
    "* desktop GUIs\n",
    "* business applications\n",
    "* data science \n",
    "\n",
    "Our focus in this course is using Python to solve data science problems specifically in the financial domain. Historically, Matlab has been a popular lanaguage for data science problems. In recent years, many Matlab users have migrated to Python and R. One major explanation for this shift is because both Python and R are open source. R is geared towards statistical computing, and has many packages related to statistcal methods. It is less of a general purpose language compared to Python. Python has also caught up with support for statistical methods and in some cases has overtaken R, in particular when it comes to cutting edge machine learning libraries.\n",
    "\n",
    "### Python use cases for financial firms?\n",
    "\n",
    "There are many use cases for Python for financial firms, below we have mentioned a small number of these. We'll go through many of these later in the course and show some demos too. Can you think of any further use cases?\n",
    "\n",
    "* Automating processes to replace heavily manual Excel processes\n",
    "    * Downloading market data\n",
    "    * Creating reports and e-mailing them\n",
    "* Risk management calculations\n",
    "* Option pricing\n",
    "* Trading strategy backtests\n",
    "* Web dashboards to display and process market data\n",
    "* Creating fun visualisations of financial markets\n",
    "* Doing transaction cost analysis\n",
    "* Crunch alternative data sources like text and images\n",
    "\n",
    "Python can work with Excel and C/C++, so it can work with existing libraries and resources you might already have like trader spreadsheets or C/C++ option pricing libraries."
   ]
  },
  {
   "cell_type": "markdown",
   "metadata": {},
   "source": [
    "## What are the Python distributions?\n",
    "As well as there being different Python versions, there are also many different distributions of Python too. Anaconda is a type of Python distribution. The main reference Python distribution is CPython (https://www.python.org). It doesn't have all the bells and whistles of other distributions and only has skeleton set of tools in it. It includes pip for installing additional Python libraries, which you are likely to need.\n",
    " \n",
    "PyPy (https://pypy.org/) is a replacement for the CPython interpreter. It uses just-in-time (JIT) compilation to increase the speed of execution. If you have purely Python code, it can work very well. However, many Python libraries also interact with C code underneath, and not all of these will be compatible with PyPy. NumPy, which is an important scientific library is now on PyPy's compatible list. However, it might be the case that some of the libraries you use won't be.\n",
    "\n",
    "There's also Jython (https://www.jython.org/) which runs Python code on the Java virtual machine, making it easy to interact with other code also on the JVM. IronPython (https://ironpython.net/) is similar but integrates with Microsoft's .NET Framework. In both cases, however, they might not support all the Python libraries you need. Currently, both Jython and IronPython also don't have Python 3 implementations.\n",
    "\n",
    "### Anaconda: Python distribution for data analysis\n",
    "Anaconda is a Python distribution (https://www.anaconda.com) that is designed for scientific computing and I typically tend to use this. It already has important data science packages like NumPy and pandas already installed, saving you from having to do so yourself. It also includes the conda package and virtual environment manager. The main disadvantage is that the file size of the distribution can be very large. In general I would recommend using Anaconda for most data science work, as it can simplify the installation of Python packages. In a separate notebook, there are details on how to install the required environment.\n",
    "\n",
    "\n",
    "### conda and pip to install new packages\n",
    "We noted that CPython includes pip for installing new Python packages to your local Python distribution. These can be Python packages fetched from PyPI (https://pypi.org/) or ones which have been manually downloaded. Say we want to install the pandas library, we would simply run the following in the command prompt. pip can also be used to remove or update existing installed packages.\n",
    "\n",
    "    pip install pandas\n",
    "\n",
    "We can also specify the version of the library we want to install. Very often we need to be careful which versions of libraries we install. Over time, their APIs can change and break existing code which depends on them. For example, with pandas, the syntax for quite a few of the calls has changed over the years. We can either update our code so it works with newer versions of pandas, or try to support multiple versions of pandas\n",
    "\n",
    "    pip install pandas==1.2.3\n",
    "\n",
    "Anaconda also includes conda which can be used to install new Python packages (most will be installable via conda, although some can only use pip). Unlike pip it will check what other packages have been installed in the current Python environment, and it will try to figure out how to install the compatible dependencies. pip will instead just install whatever dependencies you have even if they break existing libraries. Anaconda Navigator is a graphical tool to help manage your various conda pacakges. From the command line conda can be used as follows (note, conda uses = as opposed to == with pip).\n",
    "\n",
    "    conda install pandas=1.2.3\n",
    "\n",
    "conda can also be used to manage virtual environments. You may want to have several different Python environments running on the same machines, with different versions of Python and also different packages installed on them. You can think of these virtual environments as sandboxes too, so you can experiment with them, without breaking your main Python environment. The below will create a new conda environment called \"py38class\" of Python 3.8 on your computer.\n",
    "\n",
    "    conda create -n py38class python=3.8 anaconda\n",
    "\n",
    "We can activate that environment by running the following command in the prompt on Windows/Linux/Mac:\n",
    "\n",
    "    conda activate py38class\n",
    "    \n",
    "We can also remove conda environments as follows:\n",
    "\n",
    "    conda remove --name py38class --all\n",
    "\n",
    "If you are not running Anaconda, you can still create virtual environments by installing the virtualenv package by running the following command in your command prompt.\n",
    "\n",
    "    pip install virtualenv\n",
    "\n",
    "We can then create a virtual environment with virtualenv by running\n",
    "\n",
    "    virtualenv py27\n",
    "\n",
    "On Windows we can activate it in the command prompt by running\n",
    "\n",
    "    py27\\Scripts\\activate\n",
    "\n",
    "On Linux the command is slightly different\n",
    "\n",
    "    source py27/bin/activate"
   ]
  },
  {
   "cell_type": "markdown",
   "metadata": {},
   "source": [
    "### mamba drop-in replacement for conda\n",
    "\n",
    "conda generally does a better job at resolving conflicts between libraries than pip. However, the process can be length, and conda can sometimes hang for a long time (eg. hours!), if you have a large number of libraries installed. [mamba](https://github.com/mamba-org/mamba) is a drop in replacement for conda which is very fast, which is also used in some of the scripts used in this course to create the conda py38class environment on your computer. To install mamba, we can run in the Anaconda Prompt:\n",
    "    \n",
    "    conda activate\n",
    "    conda install mamba -n base -c conda-forge\n",
    "    \n",
    "We can install libraries with mamba in the Anaconda Prompt, just by replacing `conda install` with `mamba install` eg.\n",
    "\n",
    "    mamba install pandas"
   ]
  },
  {
   "cell_type": "markdown",
   "metadata": {},
   "source": [
    "## To install Anaconda and packages for this course\n",
    "\n",
    "See https://github.com/cuemacro/teaching/blob/master/pythoncourse/installation/installing_anaconda_and_pycharm.ipynb which has full instructions on how to install Anaconda Python and all the various Python packages you'll need for this course. It has several different methods for installing the `py38class` just in case you find you need to troubleshoot.\n",
    "\n",
    "It also has a section for running the course in Google Colab notebooks."
   ]
  },
  {
   "cell_type": "markdown",
   "metadata": {},
   "source": [
    "## Using Python shell vs. Notepad IDE vs Jupyter notebooks to develop Python?\n",
    "\n",
    "### Hello World example!\n",
    "\n",
    "Traditionally, the first bit of coding you'll do in a language is printing out \"Hello World!\", which what we'll do here. Brian Kernighan gave the first \"Hello World\" example in a tutorial book on C in 1972 (https://blog.hackerrank.com/the-history-of-hello-world/). To write Python code we have several options.\n",
    "\n",
    "## Interactively in the Python shell\n",
    "\n",
    "In Windows, we can go to Start / Run and then type \"cmd\" to get to the command prompt. In Linux, we can right click on the desktop and click \"Open Terminal\". We then type in \"python\" and then we can interact with the Python interpreter interactively. This is fine if we want to do run something quickly. However, it's not convenient when we have a lot of code to run and also when we want to distribute code.\n",
    "\n",
    "## Jupyter Notebook (https://jupyter.org/)\n",
    "\n",
    "We can also use a Jupyter notebook like this, to execute Python code. The advantage of a Jupyter notebook is that it allows us to mix text, graphics and code in a nice way, which makes it great for tutorials. It works for a number of different languages not just for Python. JupyterLab can be seen as cross between a tradtional Jupyter notebook and an IDE. You can run Jupyter notebooks on you own local Anaconda installation (Jupyter is installed by default) or on the cloud, with a service like Azure notebooks."
   ]
  },
  {
   "cell_type": "markdown",
   "metadata": {},
   "source": [
    "To start a Jupyter notebook in your conda environment (assumed to be py38class here), first start the Anaconda Prompt then type in the following (note, you can might need to change your notebook-dir, if omitted, it will usually start it in the current working folder):"
   ]
  },
  {
   "cell_type": "markdown",
   "metadata": {},
   "source": [
    "    conda activate py38class\n",
    "    jupyter notebook --notebook-dir='e:/cuemacro/pythoncourse/pythoncourse/notebooks'"
   ]
  },
  {
   "cell_type": "markdown",
   "metadata": {},
   "source": [
    "We can type in Python code and run it in a Jupyter notebook too!"
   ]
  },
  {
   "cell_type": "code",
   "execution_count": 1,
   "metadata": {
    "ExecuteTime": {
     "end_time": "2022-01-27T18:50:50.975230Z",
     "start_time": "2022-01-27T18:50:50.956230Z"
    },
    "pycharm": {
     "name": "#%%\n"
    }
   },
   "outputs": [
    {
     "name": "stdout",
     "output_type": "stream",
     "text": [
      "Hello world\n"
     ]
    }
   ],
   "source": [
    "print('Hello world')"
   ]
  },
  {
   "cell_type": "markdown",
   "metadata": {},
   "source": [
    "There are also many notebook extensions (nbextensions) you can add to Jupyter. These include the `ExecuteTime` function and also a table of contents. We can install these via conda (assuming we have selected the appropriate environment) or via pip.\n",
    "\n",
    "    conda install -c conda-forge jupyter_contrib_nbextensions jupyter_nbextensions_configurator\n",
    "    jupyter contrib nbextension install --user\n",
    "    \n",
    "We can then enable these through the Jupyter GUI or through the command line. For example, to enable the `ExecuteTime` and table of contents one, we can run:\n",
    "\n",
    "    jupyter nbextension enable execute_time/ExecuteTime\n",
    "    jupyter nbextension enable toc2/main\n",
    "    \n",
    "You can also run magic commands in Jupyter using %. You can for example run conda directly in the notebook using `%%conda`. There is also `%%timeit` for more accurate benchmarking, which runs a cell several times, and takes an average. We see that we can get quite different times versus ExecuteTime."
   ]
  },
  {
   "cell_type": "code",
   "execution_count": 5,
   "metadata": {
    "ExecuteTime": {
     "end_time": "2020-06-04T19:56:15.183019Z",
     "start_time": "2020-06-04T19:56:07.459025Z"
    },
    "pycharm": {
     "name": "#%%\n"
    }
   },
   "outputs": [
    {
     "name": "stdout",
     "output_type": "stream",
     "text": [
      "9.49 ns ± 0.0554 ns per loop (mean ± std. dev. of 7 runs, 100000000 loops each)\n"
     ]
    }
   ],
   "source": [
    "%%timeit\n",
    "\n",
    "2 + 2;"
   ]
  },
  {
   "cell_type": "code",
   "execution_count": 2,
   "metadata": {
    "ExecuteTime": {
     "end_time": "2022-01-27T18:51:37.093827Z",
     "start_time": "2022-01-27T18:51:37.075834Z"
    },
    "pycharm": {
     "name": "#%%\n"
    }
   },
   "outputs": [
    {
     "data": {
      "text/plain": [
       "4"
      ]
     },
     "execution_count": 2,
     "metadata": {},
     "output_type": "execute_result"
    }
   ],
   "source": [
    "2 + 2"
   ]
  },
  {
   "cell_type": "markdown",
   "metadata": {},
   "source": [
    "## Notepad like editors\n",
    "\n",
    "In many cases, we are likely to want to use an editor to create a Python script and run that separately. In Windows, we can use an editor such as Notepad. In Linux, some common editors include vim, emacs and pico, which are accessible in text mode. There are also a number of Linux GUI based editors like NEdit and GEdit. We can then invoke Python from the command prompt to run the script. Will do a quick demo now of a few editors in Windows and Linux.\n",
    "\n",
    "## IDE (Integrated Development Environment)\n",
    "\n",
    "The problem with a text editor like Notepad, is that it won't pick up basic mistakes in your code, like typos, which could be picked up before runtime. An IDE, adds a lot of extra features to make it easier to develop your code. IDEs typically consist of several components which are typically made of the below:\n",
    "\n",
    "* source code editor \n",
    "    * includes syntax highlighting to make it easier to read code\n",
    "    * autocomplete hints for code\n",
    "    * picks up basic typos eg. in variable names, lack of brackets/spacing etc.\n",
    "\n",
    "* debugging\n",
    "    * enables you to easily pause your code during runtime within the editor to help find mistakes\n",
    "    * can often remotely debug or deploy your code (eg. write on a Windows machine and run it on Linux), which is particularly useful when you're writing stuff on the cloud (eg. AWS or Google Cloud)\n",
    "\n",
    "* code profiling\n",
    "    * so you can work out which parts of your code are the slowest, and need work\n",
    "\n",
    "* version control\n",
    "    * integrates with tools like Git to keep track of different versions of code\n",
    "\n",
    "* refactoring\n",
    "    * it can automatically change variable names, functions etc.\n",
    "\n",
    "* support for multiple languages\n",
    "    * many IDEs can support multiple languages, which is useful when you are mixing several in the same project (eg. Python and HTML)\n",
    "\n",
    "As to which IDE is the best, that largely depends on your personal choice! Some people prefer to use notepad like tools, but I personally think it's much easier to use an IDE. For learning it might be good to use a notepad like tool though just for the experience! Often you can customise the way these IDEs look, so they fit precisely with your preferences, like font type and size. You can also often configure hotkeys to do common operations, rather than using the mouse all the time."
   ]
  },
  {
   "cell_type": "markdown",
   "metadata": {},
   "source": [
    "### PyCharm (https://www.jetbrains.com/pycharm/)\n",
    "\n",
    "I tend to use PyCharm as my preferred IDE of choice when working with Python. It makes it easy to see all the code you have for your project in one window. It includes typical IDE features like debugging, code highlighting, version control etc. There is a community edition available for free download. The professional edition also includes features like a code profile. The main drawback is that it can sometimes be a bit slow to index all your code, particularly when you first start it up for a specific code project. Usually, on subsequent occasions it starts up much quicker. It is available for Windows, Linux and Mac."
   ]
  },
  {
   "cell_type": "markdown",
   "metadata": {},
   "source": [
    "### VSCode (https://code.visualstudio.com)\n",
    "There are many different IDEs which are available from Microsoft. The Visual Studio IDE, comes in several flavours Community, Professional and Enterprise. VSCode is a lightweight free version for editing and debugging code, and has gained in popularity in recent years. It supports many languages as well as Python, and includes Git integration, code highlighting etc. It is available for Windows, Linux and Mac."
   ]
  },
  {
   "cell_type": "markdown",
   "metadata": {},
   "source": [
    "### PyDev (https://www.pydev.org)\n",
    "PyDev is built on the popular Eclipse IDE, which is most commonly used for Java development work. It can be a steep learning curve, but it is very customisable, and a good starting point if you have already used Eclipse a lot. It is available for Windows, Linux and Mac."
   ]
  },
  {
   "cell_type": "markdown",
   "metadata": {},
   "source": [
    "### Atom (https://atom.io)\n",
    "Atom bills itself as a \"hackable\" code editor which has lots of add on features that can be bolted on to customise it for your own use. It also some cool features like the ability to edit code in realtime, in a similar way that multiple users can work on Google Docs at the same time. It is available for Windows, Linux and Mac."
   ]
  },
  {
   "cell_type": "markdown",
   "metadata": {},
   "source": [
    "### Repl.it - online Python in your browser (https://repl.it/languages/python3)\n",
    "\n",
    "You can also use Repl.it. However, note that it won't be as well featured as most other Python development environments (can be tricky to install some Python libraries on it). It can be an easy way to start though and should be ok for the first tutorial https://repl.it/languages/python3 and if you don't need to use many additional Python libraries. I would recommend installing Python on your own laptop/computer for future tutorials though, as they use some libraries which don't work on Repl.it."
   ]
  },
  {
   "cell_type": "markdown",
   "metadata": {},
   "source": [
    "### Google Colab - online Jupyter notebooks (https://colab.research.google.com/)\n",
    "\n",
    "Google's Colab service hosts Jupyter notebooks on the cloud and the interface is identical to a Jupyter notebook that you run locally. The appeal of this, like Repl.it is that you don't need to bother to install Python on your own machine. You do need to create Google account to save down files (if you don't already have one). \n",
    "\n",
    "There is a free tier. There are however limits to how much memory you can use. There are paid for tiers, which give you access to more powerful machines, with more memory and also fasters GPUs and TPUs. You can also configure your environment to include libraries which are not in the default installation."
   ]
  },
  {
   "cell_type": "markdown",
   "metadata": {},
   "source": [
    "## Basic types\n",
    "\n",
    "Let's say we want to store something in the computer's memory. We can assign a variable to what we want to store. The variable can then be manipulated by our computer program. There are many different types of variable. Varaible names can't have spaces in them and also shouldn't be reserved keywords, used by Python elsewhere. It is a good idea to use descriptive names for variables to make code readable. It is also good practice to include comments in code. In Python, this can be done by writing text after the `#` symbol. We typically assign them with an `=`.\n",
    "\n",
    "In Python duck typing is used, so we don't have to specify what the type of the variable is. Instead, the interpreter will work out the type depends on its methods and proeprties, ie. \"if it walks like a duck and it quacks like a duck, then it must be a duck\".\n",
    "\n",
    "Below we list the numerical types:\n",
    "\n",
    "* `int` - whole numbers and these can be as big as you want (providing they fit in memory)\n",
    "* `float` - decimal numbers stored as 64-bit \"double precision\" number with a maximum size of 1.8 ⨉ 10^308\n",
    "* `complex` - specified as <real-part>+<imaginary-part>j\n",
    "\n",
    "Let's try assigning some numerical variables. Note that Python can detect the \"type\" automatically. These types are defined in a similar way for many computing languages."
   ]
  },
  {
   "cell_type": "code",
   "execution_count": 3,
   "metadata": {
    "ExecuteTime": {
     "end_time": "2022-01-27T19:04:20.255153Z",
     "start_time": "2022-01-27T19:04:20.238152Z"
    },
    "pycharm": {
     "name": "#%%\n"
    }
   },
   "outputs": [
    {
     "data": {
      "text/plain": [
       "int"
      ]
     },
     "execution_count": 3,
     "metadata": {},
     "output_type": "execute_result"
    }
   ],
   "source": [
    "an_int = 1\n",
    "type(an_int)"
   ]
  },
  {
   "cell_type": "code",
   "execution_count": 4,
   "metadata": {
    "ExecuteTime": {
     "end_time": "2022-01-27T19:04:28.892584Z",
     "start_time": "2022-01-27T19:04:28.879153Z"
    },
    "pycharm": {
     "name": "#%%\n"
    }
   },
   "outputs": [
    {
     "data": {
      "text/plain": [
       "float"
      ]
     },
     "execution_count": 4,
     "metadata": {},
     "output_type": "execute_result"
    }
   ],
   "source": [
    "a_float = 2.0\n",
    "type(a_float)"
   ]
  },
  {
   "cell_type": "code",
   "execution_count": 5,
   "metadata": {
    "ExecuteTime": {
     "end_time": "2022-01-27T19:04:42.898514Z",
     "start_time": "2022-01-27T19:04:42.894514Z"
    },
    "pycharm": {
     "name": "#%%\n"
    }
   },
   "outputs": [
    {
     "data": {
      "text/plain": [
       "complex"
      ]
     },
     "execution_count": 5,
     "metadata": {},
     "output_type": "execute_result"
    }
   ],
   "source": [
    "a_complex=(1+1j)\n",
    "type(a_complex)"
   ]
  },
  {
   "cell_type": "markdown",
   "metadata": {},
   "source": [
    "If we want to store text based data, we can store them as strings. We simply need to use quotation marks to indicate a string to differentiate them from variable names. We can use single or double quotation marks, but they must be included on both sides."
   ]
  },
  {
   "cell_type": "code",
   "execution_count": 8,
   "metadata": {
    "ExecuteTime": {
     "end_time": "2022-01-27T19:05:15.976755Z",
     "start_time": "2022-01-27T19:05:15.969758Z"
    },
    "pycharm": {
     "name": "#%%\n"
    }
   },
   "outputs": [
    {
     "ename": "SyntaxError",
     "evalue": "EOL while scanning string literal (<ipython-input-8-e9c37ad5a0f5>, line 1)",
     "output_type": "error",
     "traceback": [
      "\u001b[1;36m  File \u001b[1;32m\"<ipython-input-8-e9c37ad5a0f5>\"\u001b[1;36m, line \u001b[1;32m1\u001b[0m\n\u001b[1;33m    a_malformed_string = 'a\u001b[0m\n\u001b[1;37m                           ^\u001b[0m\n\u001b[1;31mSyntaxError\u001b[0m\u001b[1;31m:\u001b[0m EOL while scanning string literal\n"
     ]
    }
   ],
   "source": [
    "a_malformed_string = 'a"
   ]
  },
  {
   "cell_type": "code",
   "execution_count": 9,
   "metadata": {
    "ExecuteTime": {
     "end_time": "2022-01-27T19:05:26.451395Z",
     "start_time": "2022-01-27T19:05:26.432395Z"
    },
    "pycharm": {
     "name": "#%%\n"
    }
   },
   "outputs": [
    {
     "data": {
      "text/plain": [
       "str"
      ]
     },
     "execution_count": 9,
     "metadata": {},
     "output_type": "execute_result"
    }
   ],
   "source": [
    "a_string = 'hello'\n",
    "type(a_string)"
   ]
  },
  {
   "cell_type": "code",
   "execution_count": 12,
   "metadata": {
    "ExecuteTime": {
     "end_time": "2020-06-04T19:56:31.701089Z",
     "start_time": "2020-06-04T19:56:31.693110Z"
    },
    "pycharm": {
     "name": "#%%\n"
    }
   },
   "outputs": [
    {
     "data": {
      "text/plain": [
       "str"
      ]
     },
     "execution_count": 12,
     "metadata": {},
     "output_type": "execute_result"
    }
   ],
   "source": [
    "a_double_quoted_string = \"hello\"\n",
    "type(a_double_quoted_string)"
   ]
  },
  {
   "cell_type": "code",
   "execution_count": 10,
   "metadata": {
    "ExecuteTime": {
     "end_time": "2022-01-27T19:05:53.464478Z",
     "start_time": "2022-01-27T19:05:53.454482Z"
    },
    "pycharm": {
     "name": "#%%\n"
    }
   },
   "outputs": [],
   "source": [
    "a_multiline_string = '''A\n",
    "Large\n",
    "Burger'''"
   ]
  },
  {
   "cell_type": "markdown",
   "metadata": {},
   "source": [
    "There are also many special characters which consist of an escape sequence (preceded by `\\`). These include the newline character `\\n`, tab character `\\t` which can be included in our strings"
   ]
  },
  {
   "cell_type": "code",
   "execution_count": 11,
   "metadata": {
    "ExecuteTime": {
     "end_time": "2022-01-27T19:06:08.810154Z",
     "start_time": "2022-01-27T19:06:08.800152Z"
    },
    "pycharm": {
     "name": "#%%\n"
    }
   },
   "outputs": [],
   "source": [
    "a_raw_string = 'A\\nlarge\\tburger'"
   ]
  },
  {
   "cell_type": "markdown",
   "metadata": {},
   "source": [
    "We can recall the contents of a variable by using the print command"
   ]
  },
  {
   "cell_type": "code",
   "execution_count": 12,
   "metadata": {
    "ExecuteTime": {
     "end_time": "2022-01-27T19:06:12.325490Z",
     "start_time": "2022-01-27T19:06:12.311489Z"
    },
    "pycharm": {
     "name": "#%%\n"
    }
   },
   "outputs": [
    {
     "name": "stdout",
     "output_type": "stream",
     "text": [
      "1\n",
      "A\n",
      "Large\n",
      "Burger\n",
      "A\n",
      "large\tburger\n"
     ]
    }
   ],
   "source": [
    "print(an_int)\n",
    "print(a_multiline_string)\n",
    "print(a_raw_string)"
   ]
  },
  {
   "cell_type": "markdown",
   "metadata": {},
   "source": [
    "We also have boolean types, which can be made True or False. We can chain together booleans and evaluate them using logical operations."
   ]
  },
  {
   "cell_type": "code",
   "execution_count": 13,
   "metadata": {
    "ExecuteTime": {
     "end_time": "2022-01-27T19:06:34.551809Z",
     "start_time": "2022-01-27T19:06:34.543809Z"
    },
    "pycharm": {
     "name": "#%%\n"
    }
   },
   "outputs": [
    {
     "data": {
      "text/plain": [
       "bool"
      ]
     },
     "execution_count": 13,
     "metadata": {},
     "output_type": "execute_result"
    }
   ],
   "source": [
    "a_bool = True\n",
    "type(a_bool)"
   ]
  },
  {
   "cell_type": "markdown",
   "metadata": {},
   "source": [
    "## Basic arithmetic and string operations\n",
    "\n",
    "### Arithmetic operations\n",
    "\n",
    "We now know how to store variables and know the basic types in Python. The next step is doing some operations on them. An error is caused if we try to add an integer and a string!"
   ]
  },
  {
   "cell_type": "code",
   "execution_count": 14,
   "metadata": {
    "ExecuteTime": {
     "end_time": "2022-01-27T19:07:27.746121Z",
     "start_time": "2022-01-27T19:07:27.578582Z"
    },
    "pycharm": {
     "name": "#%%\n"
    }
   },
   "outputs": [
    {
     "ename": "TypeError",
     "evalue": "unsupported operand type(s) for +: 'int' and 'str'",
     "output_type": "error",
     "traceback": [
      "\u001b[1;31m---------------------------------------------------------------------------\u001b[0m",
      "\u001b[1;31mTypeError\u001b[0m                                 Traceback (most recent call last)",
      "\u001b[1;32m<ipython-input-14-c27ab2939e58>\u001b[0m in \u001b[0;36m<module>\u001b[1;34m\u001b[0m\n\u001b[0;32m      1\u001b[0m \u001b[0man_int\u001b[0m \u001b[1;33m=\u001b[0m \u001b[1;36m3\u001b[0m\u001b[1;33m;\u001b[0m \u001b[0ma_float\u001b[0m \u001b[1;33m=\u001b[0m \u001b[1;36m2.5\u001b[0m\u001b[1;33m;\u001b[0m \u001b[0ma_string\u001b[0m \u001b[1;33m=\u001b[0m \u001b[1;34m'burger'\u001b[0m\u001b[1;33m\u001b[0m\u001b[1;33m\u001b[0m\u001b[0m\n\u001b[1;32m----> 2\u001b[1;33m \u001b[0man_int\u001b[0m \u001b[1;33m+\u001b[0m \u001b[0ma_string\u001b[0m\u001b[1;33m\u001b[0m\u001b[1;33m\u001b[0m\u001b[0m\n\u001b[0m",
      "\u001b[1;31mTypeError\u001b[0m: unsupported operand type(s) for +: 'int' and 'str'"
     ]
    }
   ],
   "source": [
    "an_int = 3; a_float = 2.5; a_string = 'burger'\n",
    "an_int + a_string"
   ]
  },
  {
   "cell_type": "markdown",
   "metadata": {},
   "source": [
    "Let's give some examples of the arithmetic operators."
   ]
  },
  {
   "cell_type": "code",
   "execution_count": 15,
   "metadata": {
    "ExecuteTime": {
     "end_time": "2022-01-27T19:07:41.621643Z",
     "start_time": "2022-01-27T19:07:41.614644Z"
    },
    "pycharm": {
     "name": "#%%\n"
    }
   },
   "outputs": [
    {
     "data": {
      "text/plain": [
       "6"
      ]
     },
     "execution_count": 15,
     "metadata": {},
     "output_type": "execute_result"
    }
   ],
   "source": [
    "an_int + an_int # Addition"
   ]
  },
  {
   "cell_type": "code",
   "execution_count": 16,
   "metadata": {
    "ExecuteTime": {
     "end_time": "2022-01-27T19:07:49.704672Z",
     "start_time": "2022-01-27T19:07:49.690667Z"
    },
    "pycharm": {
     "name": "#%%\n"
    }
   },
   "outputs": [
    {
     "data": {
      "text/plain": [
       "9"
      ]
     },
     "execution_count": 16,
     "metadata": {},
     "output_type": "execute_result"
    }
   ],
   "source": [
    "an_int * an_int # Mulitplication"
   ]
  },
  {
   "cell_type": "code",
   "execution_count": 17,
   "metadata": {
    "ExecuteTime": {
     "end_time": "2022-01-27T19:07:57.166496Z",
     "start_time": "2022-01-27T19:07:57.161493Z"
    },
    "pycharm": {
     "name": "#%%\n"
    }
   },
   "outputs": [
    {
     "data": {
      "text/plain": [
       "1.0"
      ]
     },
     "execution_count": 17,
     "metadata": {},
     "output_type": "execute_result"
    }
   ],
   "source": [
    "an_int / an_int # Division"
   ]
  },
  {
   "cell_type": "code",
   "execution_count": 18,
   "metadata": {
    "ExecuteTime": {
     "end_time": "2022-01-27T19:08:02.621735Z",
     "start_time": "2022-01-27T19:08:02.605735Z"
    },
    "pycharm": {
     "name": "#%%\n"
    }
   },
   "outputs": [
    {
     "data": {
      "text/plain": [
       "float"
      ]
     },
     "execution_count": 18,
     "metadata": {},
     "output_type": "execute_result"
    }
   ],
   "source": [
    "a_float = an_int / a_float # Dividing an integer by a float, results in a float (note: different in Python 2!)\n",
    "type(a_float)"
   ]
  },
  {
   "cell_type": "code",
   "execution_count": 19,
   "metadata": {
    "ExecuteTime": {
     "end_time": "2022-01-27T19:08:09.599382Z",
     "start_time": "2022-01-27T19:08:09.582384Z"
    },
    "pycharm": {
     "name": "#%%\n"
    }
   },
   "outputs": [
    {
     "data": {
      "text/plain": [
       "1"
      ]
     },
     "execution_count": 19,
     "metadata": {},
     "output_type": "execute_result"
    }
   ],
   "source": [
    "3 // 2 # Integer division"
   ]
  },
  {
   "cell_type": "code",
   "execution_count": 20,
   "metadata": {
    "ExecuteTime": {
     "end_time": "2022-01-27T19:08:21.757357Z",
     "start_time": "2022-01-27T19:08:21.753358Z"
    },
    "pycharm": {
     "name": "#%%\n"
    }
   },
   "outputs": [
    {
     "data": {
      "text/plain": [
       "1"
      ]
     },
     "execution_count": 20,
     "metadata": {},
     "output_type": "execute_result"
    }
   ],
   "source": [
    "3 % 2 # Modulo function (ie. what's remainder when dividing 3 by 2?)"
   ]
  },
  {
   "cell_type": "code",
   "execution_count": 21,
   "metadata": {
    "ExecuteTime": {
     "end_time": "2022-01-27T19:08:31.483549Z",
     "start_time": "2022-01-27T19:08:31.476546Z"
    },
    "pycharm": {
     "name": "#%%\n"
    }
   },
   "outputs": [
    {
     "data": {
      "text/plain": [
       "9"
      ]
     },
     "execution_count": 21,
     "metadata": {},
     "output_type": "execute_result"
    }
   ],
   "source": [
    "3**2 # Exponent"
   ]
  },
  {
   "cell_type": "markdown",
   "metadata": {},
   "source": [
    "We can also combine the arithmetic `+, -, *, /, %, //, **` operations with = to do an assignment and arithmetic operation in one line."
   ]
  },
  {
   "cell_type": "code",
   "execution_count": 22,
   "metadata": {
    "ExecuteTime": {
     "end_time": "2022-01-27T19:08:58.867152Z",
     "start_time": "2022-01-27T19:08:58.857153Z"
    },
    "pycharm": {
     "name": "#%%\n"
    }
   },
   "outputs": [
    {
     "name": "stdout",
     "output_type": "stream",
     "text": [
      "4\n"
     ]
    }
   ],
   "source": [
    "a = 2\n",
    "a += 2 # ie. a = a + 2\n",
    "print(a)"
   ]
  },
  {
   "cell_type": "markdown",
   "metadata": {},
   "source": [
    "Python also includes lots of other functions that can be applied to numbers."
   ]
  },
  {
   "cell_type": "code",
   "execution_count": 23,
   "metadata": {
    "ExecuteTime": {
     "end_time": "2022-01-27T19:09:11.980753Z",
     "start_time": "2022-01-27T19:09:11.975752Z"
    },
    "pycharm": {
     "name": "#%%\n"
    }
   },
   "outputs": [
    {
     "data": {
      "text/plain": [
       "8"
      ]
     },
     "execution_count": 23,
     "metadata": {},
     "output_type": "execute_result"
    }
   ],
   "source": [
    "abs(-8) # Absolute value"
   ]
  },
  {
   "cell_type": "code",
   "execution_count": 24,
   "metadata": {
    "ExecuteTime": {
     "end_time": "2022-01-27T19:09:17.837039Z",
     "start_time": "2022-01-27T19:09:17.824614Z"
    },
    "pycharm": {
     "name": "#%%\n"
    }
   },
   "outputs": [
    {
     "data": {
      "text/plain": [
       "5"
      ]
     },
     "execution_count": 24,
     "metadata": {},
     "output_type": "execute_result"
    }
   ],
   "source": [
    "max(3,5) # Maximum"
   ]
  },
  {
   "cell_type": "code",
   "execution_count": 25,
   "metadata": {
    "ExecuteTime": {
     "end_time": "2022-01-27T19:09:20.843468Z",
     "start_time": "2022-01-27T19:09:20.840322Z"
    },
    "pycharm": {
     "name": "#%%\n"
    }
   },
   "outputs": [
    {
     "data": {
      "text/plain": [
       "5"
      ]
     },
     "execution_count": 25,
     "metadata": {},
     "output_type": "execute_result"
    }
   ],
   "source": [
    "min(5,9) # Minimum"
   ]
  },
  {
   "cell_type": "code",
   "execution_count": 26,
   "metadata": {
    "ExecuteTime": {
     "end_time": "2022-01-27T19:09:24.026956Z",
     "start_time": "2022-01-27T19:09:24.011821Z"
    },
    "pycharm": {
     "name": "#%%\n"
    }
   },
   "outputs": [
    {
     "data": {
      "text/plain": [
       "11"
      ]
     },
     "execution_count": 26,
     "metadata": {},
     "output_type": "execute_result"
    }
   ],
   "source": [
    "sum([5,6]) # Sums an iterable (eg. list)"
   ]
  },
  {
   "cell_type": "markdown",
   "metadata": {},
   "source": [
    "### String operations"
   ]
  },
  {
   "cell_type": "markdown",
   "metadata": {},
   "source": [
    "Python is great for manipulating strings. Hence, it is often a good choice for doing work on natural language processing. We shall give a example of the operations you can perform on strings."
   ]
  },
  {
   "cell_type": "code",
   "execution_count": 27,
   "metadata": {
    "ExecuteTime": {
     "end_time": "2022-01-27T19:09:50.578278Z",
     "start_time": "2022-01-27T19:09:50.562279Z"
    },
    "pycharm": {
     "name": "#%%\n"
    }
   },
   "outputs": [
    {
     "data": {
      "text/plain": [
       "'burgerking'"
      ]
     },
     "execution_count": 27,
     "metadata": {},
     "output_type": "execute_result"
    }
   ],
   "source": [
    "'burger' + 'king' # Concatenating strings"
   ]
  },
  {
   "cell_type": "code",
   "execution_count": 28,
   "metadata": {
    "ExecuteTime": {
     "end_time": "2022-01-27T19:10:04.205961Z",
     "start_time": "2022-01-27T19:10:04.197956Z"
    },
    "pycharm": {
     "name": "#%%\n"
    }
   },
   "outputs": [
    {
     "data": {
      "text/plain": [
       "'burgerqueen'"
      ]
     },
     "execution_count": 28,
     "metadata": {},
     "output_type": "execute_result"
    }
   ],
   "source": [
    "'burgerking'.replace('king', 'queen') # Replacing a substring"
   ]
  },
  {
   "cell_type": "code",
   "execution_count": 29,
   "metadata": {
    "ExecuteTime": {
     "end_time": "2022-01-27T19:11:22.800422Z",
     "start_time": "2022-01-27T19:11:22.791406Z"
    },
    "pycharm": {
     "name": "#%%\n"
    }
   },
   "outputs": [
    {
     "name": "stdout",
     "output_type": "stream",
     "text": [
      "b\n",
      "g\n",
      "urger kin\n",
      "rger king\n"
     ]
    }
   ],
   "source": [
    "a_burger_chain = 'burger king'\n",
    "print(a_burger_chain[0]) # Print the first character (note indexing from 0, like C)\n",
    "print(a_burger_chain[-1]) # Print the last chartcter (note use of negative indexing from the end)\n",
    "print(a_burger_chain[1:-1]) # Print a substring (uses both positive and negative indexing)\n",
    "print(a_burger_chain[2:]) # Print from the 3 character"
   ]
  },
  {
   "cell_type": "code",
   "execution_count": 30,
   "metadata": {
    "ExecuteTime": {
     "end_time": "2022-01-27T19:11:26.186236Z",
     "start_time": "2022-01-27T19:11:26.167237Z"
    },
    "pycharm": {
     "name": "#%%\n"
    }
   },
   "outputs": [
    {
     "ename": "IndexError",
     "evalue": "string index out of range",
     "output_type": "error",
     "traceback": [
      "\u001b[1;31m---------------------------------------------------------------------------\u001b[0m",
      "\u001b[1;31mIndexError\u001b[0m                                Traceback (most recent call last)",
      "\u001b[1;32m<ipython-input-30-4d231567b3de>\u001b[0m in \u001b[0;36m<module>\u001b[1;34m\u001b[0m\n\u001b[1;32m----> 1\u001b[1;33m \u001b[0mprint\u001b[0m\u001b[1;33m(\u001b[0m\u001b[0ma_burger_chain\u001b[0m\u001b[1;33m[\u001b[0m\u001b[1;36m50\u001b[0m\u001b[1;33m]\u001b[0m\u001b[1;33m)\u001b[0m \u001b[1;31m# Will cause an error indexing beyond last character\u001b[0m\u001b[1;33m\u001b[0m\u001b[1;33m\u001b[0m\u001b[0m\n\u001b[0m",
      "\u001b[1;31mIndexError\u001b[0m: string index out of range"
     ]
    }
   ],
   "source": [
    "print(a_burger_chain[50]) # Will cause an error indexing beyond last character"
   ]
  },
  {
   "cell_type": "code",
   "execution_count": 31,
   "metadata": {
    "ExecuteTime": {
     "end_time": "2022-01-27T19:12:09.259012Z",
     "start_time": "2022-01-27T19:12:09.253015Z"
    },
    "pycharm": {
     "name": "#%%\n"
    }
   },
   "outputs": [
    {
     "data": {
      "text/plain": [
       "11"
      ]
     },
     "execution_count": 31,
     "metadata": {},
     "output_type": "execute_result"
    }
   ],
   "source": [
    "len(a_burger_chain) # what is the length of our string?"
   ]
  },
  {
   "cell_type": "code",
   "execution_count": 32,
   "metadata": {
    "ExecuteTime": {
     "end_time": "2022-01-27T19:12:23.620896Z",
     "start_time": "2022-01-27T19:12:23.609896Z"
    },
    "pycharm": {
     "name": "#%%\n"
    }
   },
   "outputs": [
    {
     "name": "stdout",
     "output_type": "stream",
     "text": [
      "BURGER KING\n"
     ]
    }
   ],
   "source": [
    "print(a_burger_chain.upper()) # make all the characters uppercase"
   ]
  },
  {
   "cell_type": "code",
   "execution_count": 33,
   "metadata": {
    "ExecuteTime": {
     "end_time": "2022-01-27T19:12:24.115896Z",
     "start_time": "2022-01-27T19:12:24.104897Z"
    },
    "pycharm": {
     "name": "#%%\n"
    }
   },
   "outputs": [
    {
     "name": "stdout",
     "output_type": "stream",
     "text": [
      "burger king\n"
     ]
    }
   ],
   "source": [
    "print(a_burger_chain.lower()) # make all the characters lowercase"
   ]
  },
  {
   "cell_type": "code",
   "execution_count": 23,
   "metadata": {
    "ExecuteTime": {
     "end_time": "2020-10-12T10:48:42.630451Z",
     "start_time": "2020-10-12T10:48:42.618421Z"
    },
    "pycharm": {
     "name": "#%%\n"
    }
   },
   "outputs": [
    {
     "name": "stdout",
     "output_type": "stream",
     "text": [
      "['burger', 'king']\n"
     ]
    }
   ],
   "source": [
    "split_burgers = a_burger_chain.split()\n",
    "print(split_burgers) # split at the whitespaces"
   ]
  },
  {
   "cell_type": "markdown",
   "metadata": {},
   "source": [
    "Rather than concatentating strings, we can create formatted strings in the following fashion or we can use it directly on the list."
   ]
  },
  {
   "cell_type": "code",
   "execution_count": 24,
   "metadata": {
    "ExecuteTime": {
     "end_time": "2020-10-12T10:49:09.763095Z",
     "start_time": "2020-10-12T10:49:09.753098Z"
    },
    "pycharm": {
     "name": "#%%\n"
    }
   },
   "outputs": [
    {
     "name": "stdout",
     "output_type": "stream",
     "text": [
      "We split the string into burger and king\n",
      "We split the string into ['burger', 'king']\n"
     ]
    }
   ],
   "source": [
    "fmt_string = \"We split the string into %s and %s\" % (split_burgers[0], split_burgers[1])\n",
    "print(fmt_string)\n",
    "\n",
    "fmt_string = \"We split the string into %s\" % split_burgers\n",
    "print(fmt_string)"
   ]
  },
  {
   "cell_type": "markdown",
   "metadata": {},
   "source": [
    "#### Regular expressions on strings\n",
    "\n",
    "Python also supports the use of regular expressions to search and alter text. These can give us very powerful methods for manipulating text. It can be tricky to learn all the patterns and generally takes some trial and error to get them to work. However, they are generally common across other languages which use regular expressions, so at least you can learn them only once! A full reference can be found at https://docs.python.org/3/howto/regex.html."
   ]
  },
  {
   "cell_type": "code",
   "execution_count": 25,
   "metadata": {
    "ExecuteTime": {
     "end_time": "2020-10-12T10:52:14.444640Z",
     "start_time": "2020-10-12T10:52:14.434641Z"
    },
    "pycharm": {
     "name": "#%%\n"
    }
   },
   "outputs": [
    {
     "name": "stdout",
     "output_type": "stream",
     "text": [
      "<re.Match object; span=(0, 19), match='The 1 cheese burger'>\n",
      "None\n",
      "The 1 cheese and avocado burger\n",
      "cheese\n",
      "['1']\n",
      "['The', '1', 'cheese', 'and', 'avocado', 'burger']\n",
      "[' ', ' ', ' ', ' ', ' ']\n"
     ]
    }
   ],
   "source": [
    "import re\n",
    "\n",
    "txt = \"The 1 cheese burger\"\n",
    "found = re.search(\"^The.*burger$\", txt) # Does the text start (^) with 'The' and contain 'burger' at the end ($) (match)\n",
    "\n",
    "print(found)\n",
    "\n",
    "# Does the text start (^) with 'the' (match) - will return None given no matches\n",
    "found = re.search(\"^the\", txt) \n",
    "\n",
    "print(found)\n",
    "\n",
    "# Replace 'burger' with 'and avocado burger'\n",
    "txt = re.sub(\"burger\", \"and avocado burger\", txt) \n",
    "print(txt)\n",
    "\n",
    "# Search for the word (\\b indicates a word boundary) which starts with c (+ matches more than once)\n",
    "x = re.search(r\"\\bc\\w+\", txt) \n",
    "print(x.group())\n",
    "\n",
    "# Search for all the numbers (returns a list)\n",
    "x = re.compile(r'\\d+') \n",
    "print(x.findall(txt))\n",
    "\n",
    "# Search for all the words (returns a list)\n",
    "x = re.compile(r'\\w+') \n",
    "print(x.findall(txt))\n",
    "\n",
    "# Search for all the whitespaces  (returns a list)\n",
    "x = re.compile(r'\\W+') \n",
    "print(x.findall(txt))"
   ]
  },
  {
   "cell_type": "markdown",
   "metadata": {},
   "source": [
    "### Comparing between variables\n",
    "\n",
    "It is often the case that we might want to compare between variables. For numbers, this can include finding if they are bigger or smaller, as well as being equal. Below we give some examples of comparison operators."
   ]
  },
  {
   "cell_type": "code",
   "execution_count": 18,
   "metadata": {
    "ExecuteTime": {
     "end_time": "2020-06-04T19:56:31.865159Z",
     "start_time": "2020-06-04T19:56:31.860172Z"
    },
    "pycharm": {
     "name": "#%%\n"
    }
   },
   "outputs": [
    {
     "name": "stdout",
     "output_type": "stream",
     "text": [
      "True\n",
      "False\n",
      "False\n",
      "True\n",
      "True\n",
      "True\n"
     ]
    }
   ],
   "source": [
    "print(2 == 2) # Equality\n",
    "print(2 != 2) # Inequality\n",
    "print(1 > 2) # Greater than\n",
    "print(2 >= 2) # Greater than or equal\n",
    "print(1 < 2) # Smaller than\n",
    "print(2 <= 2) # Smaller than or equal"
   ]
  },
  {
   "cell_type": "markdown",
   "metadata": {},
   "source": [
    "We can also compare objects using keywords 'is' and 'not'"
   ]
  },
  {
   "cell_type": "code",
   "execution_count": 19,
   "metadata": {
    "ExecuteTime": {
     "end_time": "2020-06-04T19:56:31.874134Z",
     "start_time": "2020-06-04T19:56:31.866157Z"
    },
    "pycharm": {
     "name": "#%%\n"
    }
   },
   "outputs": [
    {
     "name": "stdout",
     "output_type": "stream",
     "text": [
      "True\n",
      "True\n"
     ]
    }
   ],
   "source": [
    "print('burger' is not 'cheeseburger')\n",
    "\n",
    "x = 'burger'\n",
    "print(x is 'burger')"
   ]
  },
  {
   "cell_type": "markdown",
   "metadata": {},
   "source": [
    "### Logical operations\n",
    "\n",
    "Logical operators can be used to combine conditonal statements together and evaluate them. We give some examples below."
   ]
  },
  {
   "cell_type": "code",
   "execution_count": 20,
   "metadata": {
    "ExecuteTime": {
     "end_time": "2020-06-04T19:56:31.884108Z",
     "start_time": "2020-06-04T19:56:31.875132Z"
    },
    "pycharm": {
     "name": "#%%\n"
    }
   },
   "outputs": [
    {
     "data": {
      "text/plain": [
       "False"
      ]
     },
     "execution_count": 20,
     "metadata": {},
     "output_type": "execute_result"
    }
   ],
   "source": [
    "True and False"
   ]
  },
  {
   "cell_type": "code",
   "execution_count": 21,
   "metadata": {
    "ExecuteTime": {
     "end_time": "2020-06-04T19:56:31.893084Z",
     "start_time": "2020-06-04T19:56:31.885105Z"
    },
    "pycharm": {
     "name": "#%%\n"
    }
   },
   "outputs": [
    {
     "data": {
      "text/plain": [
       "True"
      ]
     },
     "execution_count": 21,
     "metadata": {},
     "output_type": "execute_result"
    }
   ],
   "source": [
    "True and True"
   ]
  },
  {
   "cell_type": "code",
   "execution_count": 22,
   "metadata": {
    "ExecuteTime": {
     "end_time": "2020-06-04T19:56:31.902060Z",
     "start_time": "2020-06-04T19:56:31.894081Z"
    },
    "pycharm": {
     "name": "#%%\n"
    }
   },
   "outputs": [
    {
     "data": {
      "text/plain": [
       "True"
      ]
     },
     "execution_count": 22,
     "metadata": {},
     "output_type": "execute_result"
    }
   ],
   "source": [
    "True or False"
   ]
  },
  {
   "cell_type": "code",
   "execution_count": 23,
   "metadata": {
    "ExecuteTime": {
     "end_time": "2020-06-04T19:56:31.911036Z",
     "start_time": "2020-06-04T19:56:31.903057Z"
    },
    "pycharm": {
     "name": "#%%\n"
    }
   },
   "outputs": [
    {
     "data": {
      "text/plain": [
       "True"
      ]
     },
     "execution_count": 23,
     "metadata": {},
     "output_type": "execute_result"
    }
   ],
   "source": [
    "True and not False"
   ]
  },
  {
   "cell_type": "markdown",
   "metadata": {},
   "source": [
    "We can obviously combine these with comparison operators, discussed earlier."
   ]
  },
  {
   "cell_type": "code",
   "execution_count": 24,
   "metadata": {
    "ExecuteTime": {
     "end_time": "2020-06-04T19:56:31.920013Z",
     "start_time": "2020-06-04T19:56:31.912033Z"
    },
    "pycharm": {
     "name": "#%%\n"
    }
   },
   "outputs": [
    {
     "data": {
      "text/plain": [
       "True"
      ]
     },
     "execution_count": 24,
     "metadata": {},
     "output_type": "execute_result"
    }
   ],
   "source": [
    "(2 > 1) and (3 > 2)"
   ]
  },
  {
   "cell_type": "code",
   "execution_count": 25,
   "metadata": {
    "ExecuteTime": {
     "end_time": "2020-06-04T19:56:31.929986Z",
     "start_time": "2020-06-04T19:56:31.921009Z"
    },
    "pycharm": {
     "name": "#%%\n"
    }
   },
   "outputs": [
    {
     "data": {
      "text/plain": [
       "True"
      ]
     },
     "execution_count": 25,
     "metadata": {},
     "output_type": "execute_result"
    }
   ],
   "source": [
    "('burger' is not 'king') and (4 > 3)"
   ]
  },
  {
   "cell_type": "code",
   "execution_count": 26,
   "metadata": {
    "ExecuteTime": {
     "end_time": "2020-06-04T19:56:31.938961Z",
     "start_time": "2020-06-04T19:56:31.930983Z"
    },
    "pycharm": {
     "name": "#%%\n"
    }
   },
   "outputs": [
    {
     "data": {
      "text/plain": [
       "True"
      ]
     },
     "execution_count": 26,
     "metadata": {},
     "output_type": "execute_result"
    }
   ],
   "source": [
    "x = 'burger'; y = 'king'\n",
    "len(x) > len(y) and x != y"
   ]
  },
  {
   "cell_type": "markdown",
   "metadata": {},
   "source": [
    "### Converting between types\n",
    "\n",
    "We can often have the situation where we might want to convert between data types. In this instance, we convert an integer to a string, so we can concatenate it with other strings."
   ]
  },
  {
   "cell_type": "code",
   "execution_count": 36,
   "metadata": {
    "ExecuteTime": {
     "end_time": "2022-01-27T19:21:43.395939Z",
     "start_time": "2022-01-27T19:21:43.392323Z"
    },
    "pycharm": {
     "name": "#%%\n"
    }
   },
   "outputs": [
    {
     "name": "stdout",
     "output_type": "stream",
     "text": [
      "<class 'int'>\n",
      "<class 'float'>\n",
      "<class 'str'>\n",
      "1.0 burger is less than 1.01.0\n"
     ]
    }
   ],
   "source": [
    "x = 1 # This is an int\n",
    "print(type(x))\n",
    "\n",
    "x = float(x) # Cast as a float\n",
    "print(type(x))\n",
    "\n",
    "x = str(x) # Cast as a str\n",
    "print(type(x))\n",
    "\n",
    "x = x + ' burger is less than ' + x + x # Concatentate strings\n",
    "print(x)"
   ]
  },
  {
   "cell_type": "markdown",
   "metadata": {},
   "source": [
    "## Data structures\n",
    "\n",
    "We have seen how we can store variables. However, in practice, we often want to combine together variables as groups. \n",
    "\n",
    "### List\n",
    "One of the most common data structures in Python is a list. A string can be thought of as a list of characters. However, we can have lists made up of other data types."
   ]
  },
  {
   "cell_type": "code",
   "execution_count": 37,
   "metadata": {
    "ExecuteTime": {
     "end_time": "2022-01-27T19:22:33.021231Z",
     "start_time": "2022-01-27T19:22:33.002704Z"
    },
    "pycharm": {
     "name": "#%%\n"
    }
   },
   "outputs": [
    {
     "name": "stdout",
     "output_type": "stream",
     "text": [
      "[4, 5, 6, 1, 2, 3]\n"
     ]
    }
   ],
   "source": [
    "lst_of_numbers = [1, 2, 3]\n",
    "another_lst_of_numbers = [4, 5, 6]\n",
    "a_big_lst_of_numbers = another_lst_of_numbers + lst_of_numbers # We can combine the lists together\n",
    "print(a_big_lst_of_numbers)"
   ]
  },
  {
   "cell_type": "markdown",
   "metadata": {},
   "source": [
    "We can do operations on the list as well"
   ]
  },
  {
   "cell_type": "code",
   "execution_count": 38,
   "metadata": {
    "ExecuteTime": {
     "end_time": "2022-01-27T19:22:48.159508Z",
     "start_time": "2022-01-27T19:22:48.145513Z"
    },
    "pycharm": {
     "name": "#%%\n"
    }
   },
   "outputs": [
    {
     "name": "stdout",
     "output_type": "stream",
     "text": [
      "True\n",
      "False\n"
     ]
    }
   ],
   "source": [
    "print(5 in a_big_lst_of_numbers) # Is 5 in our list?\n",
    "print(0 in a_big_lst_of_numbers) # Is 0 in our list?"
   ]
  },
  {
   "cell_type": "code",
   "execution_count": 39,
   "metadata": {
    "ExecuteTime": {
     "end_time": "2022-01-27T19:22:55.815196Z",
     "start_time": "2022-01-27T19:22:55.798196Z"
    },
    "pycharm": {
     "name": "#%%\n"
    }
   },
   "outputs": [
    {
     "name": "stdout",
     "output_type": "stream",
     "text": [
      "[1, 2, 3, 4, 5, 6]\n"
     ]
    }
   ],
   "source": [
    "list.sort(a_big_lst_of_numbers) # Sort the list in order\n",
    "print(a_big_lst_of_numbers)"
   ]
  },
  {
   "cell_type": "code",
   "execution_count": 40,
   "metadata": {
    "ExecuteTime": {
     "end_time": "2022-01-27T19:23:11.911775Z",
     "start_time": "2022-01-27T19:23:11.907785Z"
    },
    "pycharm": {
     "name": "#%%\n"
    }
   },
   "outputs": [
    {
     "name": "stdout",
     "output_type": "stream",
     "text": [
      "[-1, 1, 2, 3, 4, 5, 6]\n"
     ]
    }
   ],
   "source": [
    "a_big_lst_of_numbers.insert(0, -1) # Put a -1 at the start of the list\n",
    "print(a_big_lst_of_numbers)"
   ]
  },
  {
   "cell_type": "code",
   "execution_count": 41,
   "metadata": {
    "ExecuteTime": {
     "end_time": "2022-01-27T19:23:27.486656Z",
     "start_time": "2022-01-27T19:23:27.478654Z"
    },
    "pycharm": {
     "name": "#%%\n"
    }
   },
   "outputs": [
    {
     "name": "stdout",
     "output_type": "stream",
     "text": [
      "[-1, 1, 2, 3, 4, 5, 6, 'burger']\n"
     ]
    }
   ],
   "source": [
    "a_big_lst_of_numbers.append('burger') # Add a 'burger' in the list (we can have mixed types in a list too)\n",
    "print(a_big_lst_of_numbers)"
   ]
  },
  {
   "cell_type": "markdown",
   "metadata": {},
   "source": [
    "We can index lists like we indexed strings earlier"
   ]
  },
  {
   "cell_type": "code",
   "execution_count": 42,
   "metadata": {
    "ExecuteTime": {
     "end_time": "2022-01-27T19:24:23.416629Z",
     "start_time": "2022-01-27T19:24:23.411625Z"
    },
    "pycharm": {
     "name": "#%%\n"
    }
   },
   "outputs": [
    {
     "name": "stdout",
     "output_type": "stream",
     "text": [
      "1\n",
      "burger\n",
      "[5, 6, 'burger']\n"
     ]
    }
   ],
   "source": [
    "print(a_big_lst_of_numbers[1]) # Get the second element\n",
    "print(a_big_lst_of_numbers[-1]) # Get the last element\n",
    "print(a_big_lst_of_numbers[5::]) # Drop the first 5 elements"
   ]
  },
  {
   "cell_type": "code",
   "execution_count": 43,
   "metadata": {
    "ExecuteTime": {
     "end_time": "2022-01-27T19:24:29.608463Z",
     "start_time": "2022-01-27T19:24:29.601461Z"
    },
    "pycharm": {
     "name": "#%%\n"
    }
   },
   "outputs": [
    {
     "name": "stdout",
     "output_type": "stream",
     "text": [
      "[-1, 1, 2, 3, 4, 5, 6]\n"
     ]
    }
   ],
   "source": [
    "a_big_lst_of_numbers.remove('burger') # Remove the first item on list which is burger\n",
    "print(a_big_lst_of_numbers)"
   ]
  },
  {
   "cell_type": "code",
   "execution_count": 44,
   "metadata": {
    "ExecuteTime": {
     "end_time": "2022-01-27T19:25:15.875452Z",
     "start_time": "2022-01-27T19:25:15.868449Z"
    },
    "pycharm": {
     "name": "#%%\n"
    }
   },
   "outputs": [
    {
     "name": "stdout",
     "output_type": "stream",
     "text": [
      "1\n"
     ]
    }
   ],
   "source": [
    "print(a_big_lst_of_numbers.count(6)) # Count the number of occurances of 6 there are in the list"
   ]
  },
  {
   "cell_type": "markdown",
   "metadata": {},
   "source": [
    "We can do various mathematical operations on lists too:"
   ]
  },
  {
   "cell_type": "code",
   "execution_count": 45,
   "metadata": {
    "ExecuteTime": {
     "end_time": "2022-01-27T19:25:37.471633Z",
     "start_time": "2022-01-27T19:25:37.462637Z"
    },
    "pycharm": {
     "name": "#%%\n"
    }
   },
   "outputs": [
    {
     "name": "stdout",
     "output_type": "stream",
     "text": [
      "6\n",
      "-1\n"
     ]
    }
   ],
   "source": [
    "print(max(a_big_lst_of_numbers))\n",
    "print(min(a_big_lst_of_numbers))"
   ]
  },
  {
   "cell_type": "markdown",
   "metadata": {},
   "source": [
    "### Dict\n",
    "\n",
    "Dict data structures in Python are made up of keys and values. In older versions of Python, dicts did not remember the order in which elements were added. From Python 3.6 onwards, they are ordered. To ensure dicts are ordered in older versions of Python you need to use OrderedDict. Using dict structures is very easy."
   ]
  },
  {
   "cell_type": "code",
   "execution_count": 46,
   "metadata": {
    "ExecuteTime": {
     "end_time": "2022-01-27T19:27:10.037483Z",
     "start_time": "2022-01-27T19:27:10.028482Z"
    },
    "pycharm": {
     "name": "#%%\n"
    }
   },
   "outputs": [
    {
     "name": "stdout",
     "output_type": "stream",
     "text": [
      "{'Burger King': 'whopper', 'McDonalds': 'big mac'}\n"
     ]
    }
   ],
   "source": [
    "a_dict = {} # Create an empty dict\n",
    "a_dict['Burger King'] = 'whopper' # Add value whopper for key 'Burger King'\n",
    "a_dict['McDonalds'] = 'big mac'\n",
    "print(a_dict)"
   ]
  },
  {
   "cell_type": "code",
   "execution_count": 48,
   "metadata": {
    "ExecuteTime": {
     "end_time": "2022-01-27T19:27:30.804860Z",
     "start_time": "2022-01-27T19:27:30.794863Z"
    },
    "pycharm": {
     "name": "#%%\n"
    }
   },
   "outputs": [
    {
     "name": "stdout",
     "output_type": "stream",
     "text": [
      "whopper\n"
     ]
    }
   ],
   "source": [
    "print(a_dict['Burger King']) # What burger is at Burger King?"
   ]
  },
  {
   "cell_type": "code",
   "execution_count": 49,
   "metadata": {
    "ExecuteTime": {
     "end_time": "2022-01-27T19:27:50.218161Z",
     "start_time": "2022-01-27T19:27:50.214164Z"
    },
    "pycharm": {
     "name": "#%%\n"
    }
   },
   "outputs": [
    {
     "name": "stdout",
     "output_type": "stream",
     "text": [
      "dict_keys(['Burger King', 'McDonalds'])\n"
     ]
    }
   ],
   "source": [
    "print(a_dict.keys()) # Get all the keys"
   ]
  },
  {
   "cell_type": "code",
   "execution_count": 50,
   "metadata": {
    "ExecuteTime": {
     "end_time": "2022-01-27T19:27:57.602113Z",
     "start_time": "2022-01-27T19:27:57.592110Z"
    },
    "pycharm": {
     "name": "#%%\n"
    }
   },
   "outputs": [
    {
     "name": "stdout",
     "output_type": "stream",
     "text": [
      "dict_values(['whopper', 'big mac'])\n"
     ]
    }
   ],
   "source": [
    "print(a_dict.values()) # Get all the values"
   ]
  },
  {
   "cell_type": "code",
   "execution_count": 51,
   "metadata": {
    "ExecuteTime": {
     "end_time": "2022-01-27T19:28:04.775904Z",
     "start_time": "2022-01-27T19:28:04.770903Z"
    },
    "pycharm": {
     "name": "#%%\n"
    }
   },
   "outputs": [
    {
     "name": "stdout",
     "output_type": "stream",
     "text": [
      "['whopper', 'big mac']\n"
     ]
    }
   ],
   "source": [
    "print(list(a_dict.values())) # Get the values and convert it to a list"
   ]
  },
  {
   "cell_type": "code",
   "execution_count": 52,
   "metadata": {
    "ExecuteTime": {
     "end_time": "2022-01-27T19:28:36.508568Z",
     "start_time": "2022-01-27T19:28:36.494424Z"
    },
    "pycharm": {
     "name": "#%%\n"
    }
   },
   "outputs": [
    {
     "name": "stdout",
     "output_type": "stream",
     "text": [
      "{'Burger King': 'whopper'}\n"
     ]
    }
   ],
   "source": [
    "a_dict.pop(\"McDonalds\") # Let's say we don't like McDonalds, and want to remove it\n",
    "print(a_dict)"
   ]
  },
  {
   "cell_type": "code",
   "execution_count": 53,
   "metadata": {
    "ExecuteTime": {
     "end_time": "2022-01-27T19:29:57.328069Z",
     "start_time": "2022-01-27T19:29:57.318069Z"
    },
    "pycharm": {
     "name": "#%%\n"
    },
    "scrolled": true
   },
   "outputs": [
    {
     "name": "stdout",
     "output_type": "stream",
     "text": [
      "False\n",
      "True\n"
     ]
    }
   ],
   "source": [
    "print('McDonalds' in a_dict) # Is McDonalds in our dict?\n",
    "print('Burger King' in a_dict) # Is Burger King in our dict?"
   ]
  },
  {
   "cell_type": "code",
   "execution_count": 54,
   "metadata": {
    "ExecuteTime": {
     "end_time": "2022-01-27T19:30:02.772913Z",
     "start_time": "2022-01-27T19:30:02.759913Z"
    },
    "pycharm": {
     "name": "#%%\n"
    }
   },
   "outputs": [
    {
     "name": "stdout",
     "output_type": "stream",
     "text": [
      "{}\n"
     ]
    }
   ],
   "source": [
    "a_dict.clear() # Remove all the items in the dict\n",
    "print(a_dict)"
   ]
  },
  {
   "cell_type": "markdown",
   "metadata": {},
   "source": [
    "### Tuples\n",
    "\n",
    "Tuples are similar to lists, except their contents are not changable, so we cannot add or remove items later. We use () brackets to denote tuples.\n"
   ]
  },
  {
   "cell_type": "code",
   "execution_count": 56,
   "metadata": {
    "ExecuteTime": {
     "end_time": "2022-01-27T19:30:49.281277Z",
     "start_time": "2022-01-27T19:30:49.268278Z"
    },
    "pycharm": {
     "name": "#%%\n"
    }
   },
   "outputs": [
    {
     "name": "stdout",
     "output_type": "stream",
     "text": [
      "('burger', 'cheeseburger', 'big mac')\n"
     ]
    }
   ],
   "source": [
    "a_tuple = (\"burger\", \"cheeseburger\", \"big mac\")\n",
    "print(a_tuple)"
   ]
  },
  {
   "cell_type": "code",
   "execution_count": 59,
   "metadata": {
    "ExecuteTime": {
     "end_time": "2022-01-27T19:30:55.189593Z",
     "start_time": "2022-01-27T19:30:55.184569Z"
    },
    "pycharm": {
     "name": "#%%\n"
    }
   },
   "outputs": [
    {
     "name": "stdout",
     "output_type": "stream",
     "text": [
      "cheeseburger\n"
     ]
    }
   ],
   "source": [
    "print(a_tuple[1]) # Get the first element of the tuple"
   ]
  },
  {
   "cell_type": "markdown",
   "metadata": {},
   "source": [
    "### Sets\n",
    "\n",
    "Sets are unordered, unlike lists, which preserve an ordering. They cannot have multiple elements which are the same."
   ]
  },
  {
   "cell_type": "code",
   "execution_count": 61,
   "metadata": {
    "ExecuteTime": {
     "end_time": "2022-01-27T19:32:07.000775Z",
     "start_time": "2022-01-27T19:32:06.983773Z"
    },
    "pycharm": {
     "name": "#%%\n"
    }
   },
   "outputs": [
    {
     "name": "stdout",
     "output_type": "stream",
     "text": [
      "{'burger', 'cheeseburger'}\n",
      "{'burger', 'cheesecake', 'cheeseburger', 'milkshake'}\n",
      "set()\n"
     ]
    }
   ],
   "source": [
    "a_set = {'burger', 'burger', 'cheeseburger'} # Final set will only have one burger\n",
    "print(a_set)\n",
    "\n",
    "a_dessert_set = {'cheesecake', 'milkshake'}\n",
    "a_meal = a_set.union(a_dessert_set) # Create the union of the sets (or can use |)\n",
    "print(a_meal)\n",
    "\n",
    "an_empty_meal = a_set.intersection(a_dessert_set) # Create the intersection of the sets (or can use &)\n",
    "print(an_empty_meal)"
   ]
  },
  {
   "cell_type": "markdown",
   "metadata": {},
   "source": [
    "We can use functions like len, is or not with sets."
   ]
  },
  {
   "cell_type": "code",
   "execution_count": 62,
   "metadata": {
    "ExecuteTime": {
     "end_time": "2022-01-27T19:32:17.295765Z",
     "start_time": "2022-01-27T19:32:17.288751Z"
    },
    "pycharm": {
     "name": "#%%\n"
    }
   },
   "outputs": [
    {
     "name": "stdout",
     "output_type": "stream",
     "text": [
      "True\n"
     ]
    }
   ],
   "source": [
    "print('burger' in a_set)"
   ]
  },
  {
   "cell_type": "markdown",
   "metadata": {},
   "source": [
    "Frozensets are similar to sets but cannot be changed, once they are defined. We can use frozensets as elements within a set or as a key in a dict."
   ]
  },
  {
   "cell_type": "code",
   "execution_count": 63,
   "metadata": {
    "ExecuteTime": {
     "end_time": "2022-01-27T19:32:33.752379Z",
     "start_time": "2022-01-27T19:32:33.735359Z"
    },
    "pycharm": {
     "name": "#%%\n"
    }
   },
   "outputs": [
    {
     "name": "stdout",
     "output_type": "stream",
     "text": [
      "True\n",
      "{1, frozenset({'burger', 'king'})}\n"
     ]
    }
   ],
   "source": [
    "a_frozen_set = frozenset({'burger', 'king'})\n",
    "a_big_set = {1, a_frozen_set}\n",
    "print('burger' in a_frozen_set)\n",
    "print(a_big_set)"
   ]
  },
  {
   "cell_type": "markdown",
   "metadata": {},
   "source": [
    "## Spaces for indentations\n",
    "\n",
    "In many languages curly brackets (or similar) are used to indicate specific types of code structure. In Python, the key differences is that there are no curly brackets. Instead, we need to use tab characters to define indendation of the code where other languages use brackets. We also don't use the word 'then' in the actual Python code. Note, that whenever a 'tab' is used in Python we should instead use 2 spaces. \n",
    "\n",
    "It can cause confusion to mix tabs and spaces. Python 3 also specifically disallows mixing spaces and tabs for indentation. IDEs will usually automatically insert spaces, when you use a tab character (or they can be configured to do so). However, when using a simple editor to edit your code, it is advisible simply to use spaces.\n",
    "\n",
    "When working in a team make sure everyone is using spaces, otherwise your code will look a mess if some people are using tabs and others are using spaces!"
   ]
  },
  {
   "cell_type": "markdown",
   "metadata": {},
   "source": [
    "## Conditonals and loops\n",
    "\n",
    "We talked a lot about conditonal statements. We can use conditional statements to decide which parts of code to execute or not to execute. \n",
    "\n",
    "### if.. then.. else statements\n",
    "\n",
    "The if.. then.. else statements are common to many programming languages."
   ]
  },
  {
   "cell_type": "code",
   "execution_count": 65,
   "metadata": {
    "ExecuteTime": {
     "end_time": "2022-01-27T19:34:39.562794Z",
     "start_time": "2022-01-27T19:34:39.559656Z"
    },
    "pycharm": {
     "name": "#%%\n"
    }
   },
   "outputs": [
    {
     "name": "stdout",
     "output_type": "stream",
     "text": [
      "Yes it is!\n",
      "Yes it is on the same line\n"
     ]
    }
   ],
   "source": [
    "if 3 > 2: # If 3 is bigger then 2, execute the code below under the tab\n",
    "    print('Yes it is!')\n",
    "\n",
    "# We can type on the same line, but it's more difficult to read\n",
    "if 3 > 2: print('Yes it is on the same line')"
   ]
  },
  {
   "cell_type": "markdown",
   "metadata": {},
   "source": [
    "We can also add an else statement which will execute if the condition in the if statement is not satified"
   ]
  },
  {
   "cell_type": "code",
   "execution_count": 66,
   "metadata": {
    "ExecuteTime": {
     "end_time": "2022-01-27T19:35:36.628096Z",
     "start_time": "2022-01-27T19:35:36.619098Z"
    },
    "pycharm": {
     "name": "#%%\n"
    }
   },
   "outputs": [
    {
     "name": "stdout",
     "output_type": "stream",
     "text": [
      "Of course 3 isn't smaller than 2\n",
      "Yes it is on the same line..!\n"
     ]
    }
   ],
   "source": [
    "if 3 < 2: # If 3 is smaller than 2, execute the code below, otherwise execute what's under else\n",
    "    print(\"This isn't true\")\n",
    "else:\n",
    "    print(\"Of course 3 isn't smaller than 2\") # Use double quotes so can use single quotes inside the string\n",
    "    \n",
    "# Or this is another way to do on one line if an else is on the same line (often used in list comprehensions) \n",
    "print('Yes it is on the same line..!') if 3 > 2 else print('No it is not!')"
   ]
  },
  {
   "cell_type": "markdown",
   "metadata": {},
   "source": [
    "We can add an elif statement if we want to go try multiple testing conditions."
   ]
  },
  {
   "cell_type": "code",
   "execution_count": 68,
   "metadata": {
    "ExecuteTime": {
     "end_time": "2022-01-27T19:36:16.577092Z",
     "start_time": "2022-01-27T19:36:16.559093Z"
    },
    "pycharm": {
     "name": "#%%\n"
    }
   },
   "outputs": [
    {
     "name": "stdout",
     "output_type": "stream",
     "text": [
      "But 3 is bigger than 2\n"
     ]
    }
   ],
   "source": [
    "if 3 < 2: # If 3 is smaller than 2, execute the code below, otherwise execute what's under else\n",
    "    print(\"This isn't true\")\n",
    "elif 3 > 2:\n",
    "    print(\"But 3 is bigger than 2\") # Use double quotes so can use single quotes inside the string\n",
    "else:\n",
    "    pass # We use the pass keyword so Python won't throw an error"
   ]
  },
  {
   "cell_type": "markdown",
   "metadata": {},
   "source": [
    "We can make our conditions as complicated as we want and nest if statements."
   ]
  },
  {
   "cell_type": "code",
   "execution_count": 70,
   "metadata": {
    "ExecuteTime": {
     "end_time": "2022-01-27T19:39:59.744047Z",
     "start_time": "2022-01-27T19:39:59.737020Z"
    },
    "pycharm": {
     "name": "#%%\n"
    }
   },
   "outputs": [
    {
     "name": "stdout",
     "output_type": "stream",
     "text": [
      "Both of these are true\n",
      "Well 2 does not equal 3!\n"
     ]
    }
   ],
   "source": [
    "x = 3; y = 2; z = 3;\n",
    "if x > y or x == z: \n",
    "    print('Both of these are true')\n",
    "\n",
    "    if y == z: \n",
    "        print('This will not run...')\n",
    "    else:\n",
    "        print('Well %s does not equal %s!' % (y, z))"
   ]
  },
  {
   "cell_type": "markdown",
   "metadata": {},
   "source": [
    "### For loops\n",
    "\n",
    "Let's say we have a list of elements, and we want to do execute an operation on each element in that list. One way to do this is to use a for loop."
   ]
  },
  {
   "cell_type": "code",
   "execution_count": 69,
   "metadata": {
    "ExecuteTime": {
     "end_time": "2022-01-27T19:39:57.187210Z",
     "start_time": "2022-01-27T19:39:57.171211Z"
    },
    "pycharm": {
     "name": "#%%\n"
    }
   },
   "outputs": [
    {
     "name": "stdout",
     "output_type": "stream",
     "text": [
      "range(0, 6)\n",
      "[100, 101, 102, 103, 104, 105]\n"
     ]
    }
   ],
   "source": [
    "lst_numbers = range(0, 6) # Creates a range iterator from [0, 6)\n",
    "print(lst_numbers)\n",
    "\n",
    "add_numbers = []\n",
    "\n",
    "for l in lst_numbers: # Iterate through\n",
    "    add_numbers.append(l + 100) # Add 100 to each number\n",
    "\n",
    "print(add_numbers)"
   ]
  },
  {
   "cell_type": "markdown",
   "metadata": {},
   "source": [
    "Alternatively we can go through a list by index numbers. This code is more difficult to read and more complicated. However, sometimes we might find it useful to have the index number."
   ]
  },
  {
   "cell_type": "code",
   "execution_count": 27,
   "metadata": {
    "ExecuteTime": {
     "end_time": "2020-10-12T11:32:05.711417Z",
     "start_time": "2020-10-12T11:32:05.702417Z"
    },
    "pycharm": {
     "name": "#%%\n"
    }
   },
   "outputs": [
    {
     "name": "stdout",
     "output_type": "stream",
     "text": [
      "[0, 2, 4, 6, 8, 10]\n",
      "Index is 0\n",
      "Element is 0\n",
      "Index is 1\n",
      "Element is 2\n",
      "Index is 2\n",
      "Element is 4\n",
      "Index is 3\n",
      "Element is 6\n",
      "Index is 4\n",
      "Element is 8\n",
      "Index is 5\n",
      "Element is 10\n",
      "[100, 102, 104, 106, 108, 110]\n"
     ]
    }
   ],
   "source": [
    "lst_numbers = list(range(0, 12, 2)) # Creates a list [0, 2, ..., 10] jumping by 2 each time\n",
    "print(lst_numbers)\n",
    "\n",
    "add_numbers = []\n",
    "\n",
    "for l in range(0, len(lst_numbers)): # Go through by index of the list [0, .., 5]\n",
    "    add_numbers.append(lst_numbers[l] + 100) # Add 100 to each number\n",
    "    print(\"Index is \" + str(l))\n",
    "    print(\"Element is \" + str(lst_numbers[l]))\n",
    "\n",
    "print(add_numbers)"
   ]
  },
  {
   "cell_type": "markdown",
   "metadata": {},
   "source": [
    "What if we want to iterate through two ranges at the same time? We can use the zip function to create an iterator of tuples, formed from two ranges or lists. We also show how to use 'break' to exit a for loop, if certain conditions are satisfied."
   ]
  },
  {
   "cell_type": "code",
   "execution_count": 28,
   "metadata": {
    "ExecuteTime": {
     "end_time": "2020-10-12T11:32:07.136423Z",
     "start_time": "2020-10-12T11:32:07.120419Z"
    },
    "pycharm": {
     "name": "#%%\n"
    }
   },
   "outputs": [
    {
     "name": "stdout",
     "output_type": "stream",
     "text": [
      "[0, 2, 4, 6, 8, 10]\n",
      "[6, 8, 10, 12, 14, 16]\n",
      "[6, 8, 10, 12, 14]\n"
     ]
    }
   ],
   "source": [
    "first_numbers = range(0, 6) # Creates a range iterator from [0, 6)\n",
    "second_numbers = range(6, 12) # Creates a range iterator from [6, 12)\n",
    "print(lst_numbers)\n",
    "\n",
    "add_numbers = []\n",
    "\n",
    "for l, m in zip(first_numbers, second_numbers): # Iterate through\n",
    "    add_numbers.append(l + m) # Add the 1st, .., 7th element of each list together\n",
    "\n",
    "print(add_numbers)\n",
    "\n",
    "break_numbers = []\n",
    "\n",
    "for l, m in zip(first_numbers, second_numbers): # Iterate through\n",
    "    if l > 10 or m > 10:\n",
    "        break\n",
    "        \n",
    "    break_numbers.append(l + m) # Add the 1st, .., 7th element of each list together\n",
    "\n",
    "print(break_numbers)"
   ]
  },
  {
   "cell_type": "markdown",
   "metadata": {},
   "source": [
    "### While loops\n",
    "\n",
    "While loops keep on running till a certain condition is satisfied. Below we give an illustration and include an example of the word continue and break."
   ]
  },
  {
   "cell_type": "code",
   "execution_count": 72,
   "metadata": {
    "ExecuteTime": {
     "end_time": "2022-01-27T19:45:13.113657Z",
     "start_time": "2022-01-27T19:45:13.103657Z"
    },
    "pycharm": {
     "name": "#%%\n"
    }
   },
   "outputs": [
    {
     "name": "stdout",
     "output_type": "stream",
     "text": [
      "This has been executed 4 times\n",
      "Reached 16, so break entirely from while loop\n"
     ]
    }
   ],
   "source": [
    "start_number = 2\n",
    "\n",
    "while start_number < 10:\n",
    "    # Multiply by 2 and reassign to start_number\n",
    "    start_number *= 2 \n",
    "\n",
    "    # If it's 8 then skip the print statement\n",
    "    if start_number == 8:\n",
    "        continue\n",
    "    elif start_number == 16:\n",
    "        print('Reached 16, so break entirely from while loop')\n",
    "        break\n",
    "    \n",
    "    print('This has been executed ' + str(start_number) + ' times')"
   ]
  },
  {
   "cell_type": "markdown",
   "metadata": {},
   "source": [
    "### List comprehensions\n",
    "\n",
    "We can use list comprehensions to quickly create lists in one line, rather than using a for loop to iterate through the list and apply functions to them."
   ]
  },
  {
   "cell_type": "code",
   "execution_count": 58,
   "metadata": {
    "ExecuteTime": {
     "end_time": "2020-06-04T19:56:32.225881Z",
     "start_time": "2020-06-04T19:56:32.218900Z"
    },
    "pycharm": {
     "name": "#%%\n"
    }
   },
   "outputs": [
    {
     "name": "stdout",
     "output_type": "stream",
     "text": [
      "[2, 3, 4, 5, 6, 7]\n"
     ]
    }
   ],
   "source": [
    "lst = [x + 2 for x in range(0, 6)] # Add 2 to every element in the range (that was easier than a for loop!)\n",
    "print(lst)"
   ]
  },
  {
   "cell_type": "markdown",
   "metadata": {},
   "source": [
    "We can also add if statements (and also else) within a list comprehension."
   ]
  },
  {
   "cell_type": "code",
   "execution_count": 59,
   "metadata": {
    "ExecuteTime": {
     "end_time": "2020-06-04T19:56:32.234857Z",
     "start_time": "2020-06-04T19:56:32.226879Z"
    },
    "pycharm": {
     "name": "#%%\n"
    }
   },
   "outputs": [
    {
     "name": "stdout",
     "output_type": "stream",
     "text": [
      "[3, 5, 7]\n",
      "[2, 1, 4, 3, 6, 5]\n"
     ]
    }
   ],
   "source": [
    "# If x is not divisible by 2 then add x to it (and include the list) otherwise don't add\n",
    "lst = [x + 2 for x in range(0,6) if x % 2 == 1]\n",
    "print(lst)\n",
    "\n",
    "# If x is divisible by 2 then add x to it (and include the list) otherwise just add x to the list as it is\n",
    "# Note that we changed the position of the if.. else in the second instances\n",
    "lst = [x + 2 if x % 2 == 0 else x for x in range(0,6)]\n",
    "print(lst)"
   ]
  },
  {
   "cell_type": "markdown",
   "metadata": {},
   "source": [
    "## Functions, exceptions, modules and packages\n",
    "\n",
    "So far we've generally only looked at executing a small number of lines of code. In practice, a program might have thousands or millions of lines of code. These lines of code need to be organised properly, rather than be in one monolithic code base. Furthermore, parts of the code might be reused repeatedly. We clearly do not want to be copying and pasting this code, and making our codebase much larger than it needs to be. CTRL-C and CTRL-V is not code reuse!\n",
    "\n",
    "### Functions\n",
    "\n",
    "Functions are a building block to collect together lines of code. They often take in input variables, which are termed as parameters and manipulate them and then return the output. We have already used some built-in Python functions like `max` and `min`. Below we give an example of a function and also how to make comments for a function. We call the function at the end and print the output. Just like with if statements, while and for loops, we don't need to add brackets to denote the start and end of the function. Instead, we need to put tab characters."
   ]
  },
  {
   "cell_type": "code",
   "execution_count": 75,
   "metadata": {
    "ExecuteTime": {
     "end_time": "2022-01-27T19:50:27.976687Z",
     "start_time": "2022-01-27T19:50:27.964468Z"
    },
    "pycharm": {
     "name": "#%%\n"
    }
   },
   "outputs": [
    {
     "name": "stdout",
     "output_type": "stream",
     "text": [
      "cheese Burger King Whopper\n"
     ]
    }
   ],
   "source": [
    "def make_a_cheeseburger(burger):\n",
    "    \"\"\"This function adds 'cheese to burger'. \n",
    "    \n",
    "    Note the use of a multiline comments here too! It's good to comment your function to describe what it does\n",
    "    and also what paramters it takes, and what are their expected types. Our comments here use NumPy style\n",
    "    function comments. There are many other comment styles which are used.\n",
    "    \n",
    "    Parameters\n",
    "    ----------\n",
    "    burger : str\n",
    "        Type of burger\n",
    "    \n",
    "    Returns\n",
    "    -------\n",
    "    str\n",
    "\n",
    "    \"\"\"\n",
    "    \n",
    "    # None is a special type of value for a variable similar to null which is used in other languages\n",
    "    if burger is None:\n",
    "        return \"Sorry that was an empty burger\"\n",
    "    \n",
    "    return \"cheese \" + burger\n",
    "\n",
    "print(make_a_cheeseburger('Burger King Whopper'))"
   ]
  },
  {
   "cell_type": "markdown",
   "metadata": {},
   "source": [
    "Functions don't always need to return any variable or indeed take any parameters, as we illustate below."
   ]
  },
  {
   "cell_type": "code",
   "execution_count": 76,
   "metadata": {
    "ExecuteTime": {
     "end_time": "2022-01-27T19:50:52.763746Z",
     "start_time": "2022-01-27T19:50:52.759746Z"
    },
    "pycharm": {
     "name": "#%%\n"
    }
   },
   "outputs": [
    {
     "name": "stdout",
     "output_type": "stream",
     "text": [
      "I just made a burger!\n"
     ]
    }
   ],
   "source": [
    "def print_burger():\n",
    "    print(\"I just made a burger!\")\n",
    "    \n",
    "print_burger()"
   ]
  },
  {
   "cell_type": "markdown",
   "metadata": {},
   "source": [
    "Sometimes we might want to specify a default value in case the user doesn't actually give a value themselves."
   ]
  },
  {
   "cell_type": "code",
   "execution_count": 80,
   "metadata": {
    "ExecuteTime": {
     "end_time": "2022-01-27T19:52:09.629157Z",
     "start_time": "2022-01-27T19:52:09.619159Z"
    },
    "pycharm": {
     "name": "#%%\n"
    }
   },
   "outputs": [
    {
     "name": "stdout",
     "output_type": "stream",
     "text": [
      "Beyond Meat topped with cheese\n",
      "waygu burger topped with cheese\n"
     ]
    }
   ],
   "source": [
    "def make_an_impossible_burger(burger, topping='cheese'):\n",
    "    return burger + ' topped with ' + topping\n",
    "\n",
    "print(make_an_impossible_burger('Beyond Meat'))\n",
    "print(make_an_impossible_burger('waygu burger'))"
   ]
  },
  {
   "cell_type": "markdown",
   "metadata": {},
   "source": [
    "We can also make functions within functions, which can access the same variables."
   ]
  },
  {
   "cell_type": "code",
   "execution_count": 81,
   "metadata": {
    "ExecuteTime": {
     "end_time": "2022-01-27T19:52:17.231675Z",
     "start_time": "2022-01-27T19:52:17.225664Z"
    },
    "pycharm": {
     "name": "#%%\n"
    }
   },
   "outputs": [
    {
     "name": "stdout",
     "output_type": "stream",
     "text": [
      "KFC tower burger\n"
     ]
    }
   ],
   "source": [
    "def make_a_burger(burger):\n",
    "    \n",
    "    # We can access the burger variable within scope\n",
    "    def print_a_burger():\n",
    "        print(burger)\n",
    "        \n",
    "    print_a_burger()\n",
    "    \n",
    "make_a_burger(\"KFC tower burger\")"
   ]
  },
  {
   "cell_type": "markdown",
   "metadata": {},
   "source": [
    "We can also return our nested function and call this later. This is known as a closure in Python. We also demonstrate how variables defined outside the function also available, within it."
   ]
  },
  {
   "cell_type": "code",
   "execution_count": 84,
   "metadata": {
    "ExecuteTime": {
     "end_time": "2022-01-27T19:52:51.373793Z",
     "start_time": "2022-01-27T19:52:51.355762Z"
    },
    "pycharm": {
     "name": "#%%\n"
    }
   },
   "outputs": [
    {
     "name": "stdout",
     "output_type": "stream",
     "text": [
      "KFC tower burger\n",
      "all functions can access this\n",
      "KFC tower burger\n",
      "all functions can access this\n"
     ]
    }
   ],
   "source": [
    "outside_variable = 'all functions can access this'\n",
    "\n",
    "def make_a_burger(burger):\n",
    "    \n",
    "    def print_a_burger():\n",
    "        print(burger)\n",
    "        print(outside_variable)\n",
    "        \n",
    "    return print_a_burger\n",
    "    \n",
    "x = make_a_burger(\"KFC tower burger\")\n",
    "x()\n",
    "x()"
   ]
  },
  {
   "cell_type": "markdown",
   "metadata": {},
   "source": [
    "### Modules\n",
    "\n",
    "What if we want to save several functions together in a single file to run later? We can group them together into a module which is essentially a module. Python also has lots of built in modules, which we can use. To use a module simply use the import statement."
   ]
  },
  {
   "cell_type": "code",
   "execution_count": 92,
   "metadata": {
    "ExecuteTime": {
     "end_time": "2022-01-27T19:55:29.520633Z",
     "start_time": "2022-01-27T19:55:29.510632Z"
    },
    "pycharm": {
     "name": "#%%\n"
    }
   },
   "outputs": [
    {
     "name": "stdout",
     "output_type": "stream",
     "text": [
      "2022-01-27 19:55:29.511632\n"
     ]
    }
   ],
   "source": [
    "import datetime # import datetime module\n",
    "\n",
    "print(datetime.datetime.utcnow())"
   ]
  },
  {
   "cell_type": "markdown",
   "metadata": {},
   "source": [
    "We can also choose to import specific submodules from a module. It can sometimes take time to import a large package, hence this approach can speed up our code. If we use many different submodules from a module, however, this approach can make our code very messy."
   ]
  },
  {
   "cell_type": "code",
   "execution_count": 93,
   "metadata": {
    "ExecuteTime": {
     "end_time": "2022-01-27T19:55:30.695200Z",
     "start_time": "2022-01-27T19:55:30.679964Z"
    },
    "pycharm": {
     "name": "#%%\n"
    }
   },
   "outputs": [
    {
     "name": "stdout",
     "output_type": "stream",
     "text": [
      "2022-01-26 19:55:30.680965\n"
     ]
    }
   ],
   "source": [
    "from datetime import timedelta # timedelta can be used to add and subtract dates\n",
    "\n",
    "today = datetime.datetime.utcnow()\n",
    "yesterday = today - timedelta(days=1)\n",
    "\n",
    "print(yesterday)"
   ]
  },
  {
   "cell_type": "markdown",
   "metadata": {},
   "source": [
    "### Packages\n",
    "\n",
    "A package can help us organise a large number of modules together.\n",
    "\n",
    "We have create pythoncourse as our top package. In the directory below that, we have created a subpackage packagedemo. Under that directory we have create typechecker.py with functions for checking the type of variables. We could also create other nested levels of packaging. In each package folder we need to create an `__init__.py` file so Python knows to treat that folder as package. We can also specify what submodules should be imported in the `__init__.py` file.\n",
    "\n",
    "Note that when importing we do not include the py file extension. We can also use the \"as\" keyword to create an alias that we can use later, saving us from typing in the full address. Below we illustrate several ways to import packages and functions within them."
   ]
  },
  {
   "cell_type": "code",
   "execution_count": 95,
   "metadata": {
    "ExecuteTime": {
     "end_time": "2022-01-27T19:58:51.116057Z",
     "start_time": "2022-01-27T19:58:51.097362Z"
    },
    "pycharm": {
     "name": "#%%\n"
    }
   },
   "outputs": [
    {
     "name": "stdout",
     "output_type": "stream",
     "text": [
      "<module 'pythoncourse.coursecode.packagedemo.typechecker' from 'e:\\\\cuemacro\\\\pythoncourse\\\\pythoncourse\\\\coursecode\\\\packagedemo\\\\typechecker.py'>\n",
      "1 is not a float\n",
      "a string is a str\n",
      "2.0 is a float\n",
      "This is a tasty cheeseburger is a str\n"
     ]
    }
   ],
   "source": [
    "try:\n",
    "    import sys\n",
    "    \n",
    "    # You can download this code from https://github.com/cuemacro/teaching\n",
    "    # You'll need to change the code path below\n",
    "    sys.path.append(\"e:/cuemacro/teaching/\")\n",
    "except:\n",
    "    path\n",
    "\n",
    "import pythoncourse.coursecode.packagedemo.typechecker as typechecker\n",
    "\n",
    "print(typechecker)\n",
    "# from typechecker import print_is_a_float, print_is_a_string\n",
    "\n",
    "typechecker.print_is_a_float('1')\n",
    "typechecker.print_is_a_string('a string')\n",
    "\n",
    "# Let's import a specific function\n",
    "from pythoncourse.coursecode.packagedemo.typechecker import print_is_a_float\n",
    "\n",
    "print_is_a_float(2.0)\n",
    "\n",
    "# Or import everything!\n",
    "from pythoncourse.coursecode.packagedemo.typechecker import *\n",
    "print_is_a_string('This is a tasty cheeseburger')"
   ]
  },
  {
   "cell_type": "markdown",
   "metadata": {},
   "source": [
    "### Errors and Exceptions\n",
    "\n",
    "One of the most common errors you might encounter are syntax errors. Basically this is where you have typed in the code incorrectly. For example, there might be a typo in a variable or function name. You might not have intended your code correctly. However, these are relatively easy to fix. In many instances an IDE will likely flag these types of errors.\n",
    "\n",
    "However, there are many instances where even if your code has no syntax errors, but it might still cause an error, which you need to handle. These are known as exceptions. There are numerous examples of code which can throw an exception. For example, you might wish to create a file, but the hard disk is full. You might try to add to variables, but they are of different types. "
   ]
  },
  {
   "cell_type": "code",
   "execution_count": 98,
   "metadata": {
    "ExecuteTime": {
     "end_time": "2022-01-27T19:59:44.112197Z",
     "start_time": "2022-01-27T19:59:44.101192Z"
    },
    "pycharm": {
     "name": "#%%\n"
    }
   },
   "outputs": [
    {
     "ename": "TypeError",
     "evalue": "unsupported operand type(s) for +: 'int' and 'str'",
     "output_type": "error",
     "traceback": [
      "\u001b[1;31m---------------------------------------------------------------------------\u001b[0m",
      "\u001b[1;31mTypeError\u001b[0m                                 Traceback (most recent call last)",
      "\u001b[1;32m<ipython-input-98-79975d7f8d0b>\u001b[0m in \u001b[0;36m<module>\u001b[1;34m\u001b[0m\n\u001b[0;32m      1\u001b[0m \u001b[1;31m# This will throw a type error\u001b[0m\u001b[1;33m\u001b[0m\u001b[1;33m\u001b[0m\u001b[1;33m\u001b[0m\u001b[0m\n\u001b[0;32m      2\u001b[0m \u001b[1;33m\u001b[0m\u001b[0m\n\u001b[1;32m----> 3\u001b[1;33m \u001b[1;36m2\u001b[0m \u001b[1;33m+\u001b[0m \u001b[1;34m's'\u001b[0m\u001b[1;33m\u001b[0m\u001b[1;33m\u001b[0m\u001b[0m\n\u001b[0m",
      "\u001b[1;31mTypeError\u001b[0m: unsupported operand type(s) for +: 'int' and 'str'"
     ]
    }
   ],
   "source": [
    "# This will throw a type error\n",
    "\n",
    "2 + 's'"
   ]
  },
  {
   "cell_type": "markdown",
   "metadata": {},
   "source": [
    "If we want to handle this `TypeError`, we can use `try.. except` statements. We can return a more meaningful error message to the user and handle the error gracefully."
   ]
  },
  {
   "cell_type": "code",
   "execution_count": 99,
   "metadata": {
    "ExecuteTime": {
     "end_time": "2022-01-27T20:00:41.874333Z",
     "start_time": "2022-01-27T20:00:41.857334Z"
    },
    "pycharm": {
     "name": "#%%\n"
    }
   },
   "outputs": [
    {
     "name": "stdout",
     "output_type": "stream",
     "text": [
      "You shouldn't add variables of different types!\n"
     ]
    }
   ],
   "source": [
    "add_1 = 1; add_2 = 'x'\n",
    "\n",
    "try:\n",
    "    add_1 + add_2\n",
    "except TypeError:\n",
    "    print(\"You shouldn't add variables of different types!\")"
   ]
  },
  {
   "cell_type": "markdown",
   "metadata": {},
   "source": [
    "We can also raise our own exceptions (and create our own types of exception too), to allow them to be handled elsewhere in the code. A `finally` statement can be used to executed at the end of a `try` statement. It will get run regardless of whether the `except` statement is tripped."
   ]
  },
  {
   "cell_type": "code",
   "execution_count": 100,
   "metadata": {
    "ExecuteTime": {
     "end_time": "2022-01-27T20:02:30.575445Z",
     "start_time": "2022-01-27T20:02:30.556885Z"
    },
    "pycharm": {
     "name": "#%%\n"
    }
   },
   "outputs": [
    {
     "name": "stdout",
     "output_type": "stream",
     "text": [
      "Lamb is too expensive for a burger\n",
      "Let us clean up at the end, no matter whether a burger was cooked\n"
     ]
    }
   ],
   "source": [
    "class BurgerException(Exception):\n",
    "    \"\"\"Base class for exceptions in this module.\"\"\"\n",
    "    pass\n",
    "\n",
    "def create_a_burger(ingredients):\n",
    "    for i in ingredients:\n",
    "        if 'lamb' in i:\n",
    "            raise BurgerException(\"Lamb is too expensive for a burger\")\n",
    "            \n",
    "try:\n",
    "    create_a_burger(['cheese', 'lettuce', 'lamb'])\n",
    "except BurgerException as e:\n",
    "    print(str(e))\n",
    "finally:\n",
    "    print('Let us clean up at the end, no matter whether a burger was cooked')"
   ]
  },
  {
   "cell_type": "markdown",
   "metadata": {},
   "source": [
    "### Recursion and iteration\n",
    "\n",
    "Earlier we discussed how Python is predominently a imperative language. One of the properties is that code is writen in an iterative fashion. This constrasts to functional languages where recursion is a major feature. Here we share illustrate the differeneces between recursion and iteration. We also demonstrate the use a Python lambda function, which is an anonymous function, which doesn't have a name."
   ]
  },
  {
   "cell_type": "code",
   "execution_count": 101,
   "metadata": {
    "ExecuteTime": {
     "end_time": "2022-01-27T20:05:10.016132Z",
     "start_time": "2022-01-27T20:05:09.996137Z"
    },
    "pycharm": {
     "name": "#%%\n"
    }
   },
   "outputs": [
    {
     "name": "stdout",
     "output_type": "stream",
     "text": [
      "10\n",
      "10\n",
      "10\n",
      "10\n"
     ]
    }
   ],
   "source": [
    "# Here we sum a list in an iterative fashion \n",
    "# (in practice, we would likely use built-in functions to do this!)\n",
    "def sum_iter(lst):\n",
    "    no = 0\n",
    "    \n",
    "    for i in lst:\n",
    "        no += i\n",
    "\n",
    "    return no\n",
    "\n",
    "def sum_rec(lst):\n",
    "    # Base case\n",
    "    if len(lst) == 1:\n",
    "        return lst[0]\n",
    "    \n",
    "    # Add the first element and run the same function on the rest of the list\n",
    "    return lst[0] + sum_rec(lst[1:])\n",
    "\n",
    "def sum_rec_one_line(lst):\n",
    "    return lst[0] + sum_rec_one_line(lst[1:]) if len(lst) > 1 else lst[0]\n",
    "\n",
    "# We can use a Python lambda (we've also changed the if statement)\n",
    "sum_lambda = lambda lst: lst[0] + sum_lambda (lst[1:]) if lst else 0\n",
    "\n",
    "lst = [0, 1, 2, 3, 4]\n",
    "\n",
    "print(sum_iter(lst))\n",
    "print(sum_rec(lst))\n",
    "print(sum_rec_one_line(lst))\n",
    "print(sum_lambda(lst))"
   ]
  },
  {
   "cell_type": "markdown",
   "metadata": {},
   "source": [
    "There are several functions in Python which can helpful if you wish to write your code in a functional style, namely `map`, `filter` and `reduce`. Let's start with `map` which applies the same function to every element in our input."
   ]
  },
  {
   "cell_type": "code",
   "execution_count": 72,
   "metadata": {
    "ExecuteTime": {
     "end_time": "2020-06-04T19:56:48.138776Z",
     "start_time": "2020-06-04T19:56:48.131795Z"
    },
    "pycharm": {
     "name": "#%%\n"
    }
   },
   "outputs": [
    {
     "name": "stdout",
     "output_type": "stream",
     "text": [
      "[0, 2, 4, 6, 8]\n"
     ]
    }
   ],
   "source": [
    "def double_it(x):\n",
    "     return x * 2\n",
    "\n",
    "lst = [0, 1, 2, 3, 4]\n",
    "\n",
    "double_them = list(map(double_it, lst))\n",
    "print(double_them)"
   ]
  },
  {
   "cell_type": "markdown",
   "metadata": {},
   "source": [
    "`filter` meanwhile filters elements of a list according to a certain conditional criteria. Here we use a `lambda` function as our `filter`."
   ]
  },
  {
   "cell_type": "code",
   "execution_count": 73,
   "metadata": {
    "ExecuteTime": {
     "end_time": "2020-06-04T19:56:48.147753Z",
     "start_time": "2020-06-04T19:56:48.139774Z"
    },
    "pycharm": {
     "name": "#%%\n"
    }
   },
   "outputs": [
    {
     "name": "stdout",
     "output_type": "stream",
     "text": [
      "['veggie', 'chicken']\n"
     ]
    }
   ],
   "source": [
    "lst = ['burger', 'veggie', 'chicken']\n",
    "\n",
    "only_burgers = list(filter(lambda x: 'burger' not in x, lst))\n",
    "print(only_burgers)"
   ]
  },
  {
   "cell_type": "markdown",
   "metadata": {},
   "source": [
    "`reduce` can run functions to combine together elements of a list somehow. In this instance, we use it to a rolling concatenation on the elements of the list. Then we use it to find the shortest word in a list (note, it will only return a single word, even if multiple words have the same length)."
   ]
  },
  {
   "cell_type": "code",
   "execution_count": 74,
   "metadata": {
    "ExecuteTime": {
     "end_time": "2020-06-04T19:56:48.156729Z",
     "start_time": "2020-06-04T19:56:48.148750Z"
    },
    "pycharm": {
     "name": "#%%\n"
    }
   },
   "outputs": [
    {
     "name": "stdout",
     "output_type": "stream",
     "text": [
      "burger, tomato, lettuce\n",
      "tomato\n"
     ]
    }
   ],
   "source": [
    "lst = ['burger', 'tomato', 'lettuce']\n",
    "\n",
    "from functools import reduce\n",
    "final_burger = reduce((lambda x, y: x + ', ' + y), lst)\n",
    "\n",
    "print(final_burger)\n",
    "\n",
    "print(reduce(lambda x,y : x if len(x) < len(y) else y, lst)) "
   ]
  },
  {
   "cell_type": "markdown",
   "metadata": {},
   "source": [
    "## Coding conventions: PEP8 Python style guide\n",
    "\n",
    "Python gives you a lot of freedom in how you write your code. However, in general, it is a good idea to be relatively consistent in how you code. If you are working in a team, it is also important that everyone uses the same conventions to make the code more readable.\n",
    "\n",
    "The PEP8 Python style guide by Guido van Rossum, who invented the Python language, defines a number of different coding conventions, which it is recommended that you follow, to make your code easier to read and understand. Here we go through some of the main things flagged in the style guide. It is recommended you also go through it in full at https://www.python.org/dev/peps/pep-0008/. Source code editors in IDEs will often flag if your code doesn't adhere to some elements of the PEP8 standard. It's also worth going on GitHub, to see how some popular libraries are written, eg. pandas or NumPy to give you an idea of the types of conventions used.\n",
    "\n",
    "### Indentations\n",
    "\n",
    "Indentations in your Python code should be 4 spaces and be consistent. Code might still run if you are not fully consistent, but it makes it difficult to read in any case. On the question of tabs or spaces, do not mix them. Only use tabs if they are already used in the code. Python 3 doesn't allow the mixing of tabs and spaces as well."
   ]
  },
  {
   "cell_type": "code",
   "execution_count": 102,
   "metadata": {
    "ExecuteTime": {
     "end_time": "2022-01-27T20:12:39.739579Z",
     "start_time": "2022-01-27T20:12:39.727582Z"
    },
    "pycharm": {
     "name": "#%%\n"
    }
   },
   "outputs": [],
   "source": [
    "# Bad (will still execute, but looks awful!)\n",
    "def a_func(x):\n",
    "        \n",
    "        \n",
    "        if x == 'burger':\n",
    "            print('that is a burger')\n",
    "        else:\n",
    "                print('this is not a burger')\n",
    "\n",
    "# Good.. nicer formatting!\n",
    "def a_func(x): \n",
    "    \n",
    "    if x == 'burger':\n",
    "        print('that is a burger')\n",
    "    else:\n",
    "        print('this is not a burger')\n"
   ]
  },
  {
   "cell_type": "markdown",
   "metadata": {},
   "source": [
    "### Maximum line length\n",
    "\n",
    "Keep lines to a length of 79 characters. Very long lines are difficult to read.\n",
    "\n",
    "### Imports\n",
    "\n",
    "Import statements should be written on different lines, rather than collecting together on one line. Generally import standard Python libraries first, then third party libraries and then imports related to your local project.\n",
    "\n",
    "### String quotes\n",
    "\n",
    "Single and double quotation marks may be used. Try to stick to a consistent approach in your code. You might have to use one or the other, if you strings actually contain single or double quotation marks in them."
   ]
  },
  {
   "cell_type": "code",
   "execution_count": 76,
   "metadata": {
    "ExecuteTime": {
     "end_time": "2020-06-04T19:56:48.174681Z",
     "start_time": "2020-06-04T19:56:48.165705Z"
    },
    "pycharm": {
     "name": "#%%\n"
    }
   },
   "outputs": [
    {
     "name": "stdout",
     "output_type": "stream",
     "text": [
      "\"burger\"\n",
      "'burger'\n"
     ]
    }
   ],
   "source": [
    "print('\"burger\"')\n",
    "print(\"'burger'\")"
   ]
  },
  {
   "cell_type": "markdown",
   "metadata": {},
   "source": [
    "### Whitespace\n",
    "\n",
    "Try to avoid unnecessary whitespaces in many situations, for example before brackets. For variable assignments, it is fine to use a space, but don't use lots of spaces!"
   ]
  },
  {
   "cell_type": "code",
   "execution_count": 103,
   "metadata": {
    "ExecuteTime": {
     "end_time": "2022-01-27T20:15:08.574312Z",
     "start_time": "2022-01-27T20:15:08.566313Z"
    },
    "pycharm": {
     "name": "#%%\n"
    }
   },
   "outputs": [
    {
     "name": "stdout",
     "output_type": "stream",
     "text": [
      "4\n",
      "4\n"
     ]
    }
   ],
   "source": [
    "# Bad, with many unnecessary whitespaces\n",
    "def add(x, y = 1, z = 2):\n",
    "    return x + y +    z\n",
    "\n",
    "print(add (1))\n",
    "\n",
    "x       = 1\n",
    "y       = 1\n",
    "\n",
    "# Good\n",
    "def add(x, y=1, z=2):\n",
    "    return x + y + z\n",
    "\n",
    "print(add(1))\n",
    "\n",
    "# For variable assignment use a space\n",
    "x = 1\n",
    "y = 1"
   ]
  },
  {
   "cell_type": "markdown",
   "metadata": {},
   "source": [
    "### Other tips\n",
    "\n",
    "Try to ensure that not everything is squeezed on to the same line where doing if statements or similar statements."
   ]
  },
  {
   "cell_type": "code",
   "execution_count": 104,
   "metadata": {
    "ExecuteTime": {
     "end_time": "2022-01-27T20:15:22.165843Z",
     "start_time": "2022-01-27T20:15:22.155844Z"
    },
    "pycharm": {
     "name": "#%%\n"
    }
   },
   "outputs": [
    {
     "name": "stdout",
     "output_type": "stream",
     "text": [
      "Well, you must be Sherlock Holmes to know that...\n",
      "Well, you must be Sherlock Holmes to know that...\n"
     ]
    }
   ],
   "source": [
    "# Bad\n",
    "if 3 > 2: print('Well, you must be Sherlock Holmes to know that...')\n",
    "else: print('OK, then')\n",
    "    \n",
    "# Good\n",
    "if 3 > 2: \n",
    "    print('Well, you must be Sherlock Holmes to know that...')\n",
    "else: \n",
    "    print('OK, then')\n"
   ]
  },
  {
   "cell_type": "markdown",
   "metadata": {},
   "source": [
    "### Comments\n",
    "\n",
    "Comments are very important to give further explanation about how your code works. Make sure your comments are up to date, and reflect any changes you've made to your code.\n",
    "\n",
    "Comments should be sentences and try to write comments in English (unless you are very sure that everyone reading the code will definitely know the language you are writing in).\n",
    "\n",
    "Try to avoid using inline comments too much and instead write on separate lines. Block comments can be written that go over\n",
    "multiple lines."
   ]
  },
  {
   "cell_type": "code",
   "execution_count": 79,
   "metadata": {
    "ExecuteTime": {
     "end_time": "2020-06-04T19:56:48.200611Z",
     "start_time": "2020-06-04T19:56:48.192632Z"
    },
    "pycharm": {
     "name": "#%%\n"
    }
   },
   "outputs": [
    {
     "name": "stdout",
     "output_type": "stream",
     "text": [
      "2\n"
     ]
    }
   ],
   "source": [
    "x = 1 # Inline comments\n",
    "\n",
    "# Assign x as 1 (ok this is obvious...)\n",
    "x = 1\n",
    "\n",
    "\"\"\"\n",
    "This is a big block comment. \n",
    "\n",
    "It can have multiple lines. Next, we'll double a number...\n",
    "\"\"\"\n",
    "x = x * 2\n",
    "\n",
    "print(x)"
   ]
  },
  {
   "cell_type": "markdown",
   "metadata": {},
   "source": [
    "Make sure to write documentation strings (ie. docstrings) for all public modules, functions, classes, and methods. We gave an example of NumPy style docstrings earlier (https://sphinxcontrib-napoleon.readthedocs.io/en/latest/example_numpy.html). Google style docstrings are also popular (https://sphinxcontrib-napoleon.readthedocs.io/en/latest/example_google.html#example-google). Block strings"
   ]
  },
  {
   "cell_type": "markdown",
   "metadata": {},
   "source": [
    "### Naming conventions\n",
    "\n",
    "When coding we have many choices to make when we create names. We need to name variables, classes, functions etc. We should have a consistent way to name all these things.\n",
    "\n",
    "Below we define a number of different naming styles.\n",
    "\n",
    "* `b` (single lowercase letter)\n",
    "* `B` (single uppercase letter)\n",
    "* `lowercase`\n",
    "* `lower_case_with_underscores`\n",
    "* `UPPERCASE`\n",
    "* `UPPER_CASE_WITH_UNDERSCORES`\n",
    "* `CapitalizedWords` (or CapWords, or CamelCase) - when using acronyms in CapWords, capitalize all the letters of the acronym. Thus `HTTPServerError` is better than `HttpServerError`.\n",
    "* `mixedCase` (differs from CapitalizedWords by initial lowercase character!)\n",
    "* `Capitalized_Words_With_Underscores` (ugly!)\n",
    "\n",
    "Try to avoid words or letters which are difficult to read and can look similar in certain fonts. For example `l` (the letter l), looks very much a `1` (the number one). Another example is the confusion between `O` and `0`. Also don't use characters that aren't ASCII compatible eg.\n",
    "\n",
    "* Package names should be all lowercase and short. Try not to include underscores in them, unless absolutely necessary.\n",
    "* Class names should be written in CamelCase.\n",
    "* Exception names should have the word `Error` in them eg. `BurgerError`. \n",
    "* Function and variable names should be in all lowercase letters, with underscores if necessary to separate words.\n",
    "* In instance methods, `self` should always be the first parameter. In class methods, `cls` should be the first parameter.\n",
    "* For method names and instance variables, use the same convention as function and variable names. \n",
    "* For non-public methods and variables use `_` as a prefix.\n",
    "* Constants should be written in `UPPER_CASE_WITH_UNDERSCORES`."
   ]
  },
  {
   "cell_type": "markdown",
   "metadata": {},
   "source": [
    "## Python standard library\n",
    "\n",
    "We have already talked about a number of modules. Here we shall go through a few more modules and give examples of their usage. The full Python standard library is described in https://docs.python.org/3/library/ and we strongly recommend going through that in more detail.\n",
    "\n",
    "### datetime\n",
    "\n",
    "We have already briefly seen this. This enables us to store and manipulate dates and times. Below we give some simple examples of using datetime."
   ]
  },
  {
   "cell_type": "code",
   "execution_count": 105,
   "metadata": {
    "ExecuteTime": {
     "end_time": "2022-01-27T20:18:04.640077Z",
     "start_time": "2022-01-27T20:18:04.630621Z"
    },
    "pycharm": {
     "name": "#%%\n"
    }
   },
   "outputs": [
    {
     "name": "stdout",
     "output_type": "stream",
     "text": [
      "2022-01-27 20:18:04.632708\n",
      "2022-01-27\n",
      "20:18:04.632708\n",
      "2022-01-28 20:18:04.632708\n",
      "Yes 2022-01-28 20:18:04.632708 is after 2022-01-27 20:18:04.632708\n"
     ]
    }
   ],
   "source": [
    "import datetime\n",
    "from datetime import timedelta\n",
    "\n",
    "today = datetime.datetime.utcnow()\n",
    "\n",
    "# We get extract the date and time separately\n",
    "print(today)\n",
    "print(today.date())\n",
    "print(today.time())\n",
    "\n",
    "# Tomorrow is one day after today\n",
    "tomorrow = today + timedelta(days=1)\n",
    "\n",
    "print(tomorrow)\n",
    "\n",
    "# We can compare dates like we compare numbers\n",
    "if tomorrow > today: \n",
    "    print('Yes ' + str(tomorrow) + ' is after ' + str(today))"
   ]
  },
  {
   "cell_type": "markdown",
   "metadata": {},
   "source": [
    "### functools\n",
    "\n",
    "This consists of higher order functions. These includes functions like `map`, `reduce` and `filter` which we discussed earlier.\n",
    "\n",
    "### math\n",
    "\n",
    "These functions include a number of different additional mathematical functions, which are typical of the sort you'd find on a scientific calculator. We illustrate a few of these below. `cmath` provides complex number versions of these functions."
   ]
  },
  {
   "cell_type": "code",
   "execution_count": 106,
   "metadata": {
    "ExecuteTime": {
     "end_time": "2022-01-27T20:18:46.311352Z",
     "start_time": "2022-01-27T20:18:46.301352Z"
    },
    "pycharm": {
     "name": "#%%\n"
    }
   },
   "outputs": [
    {
     "name": "stdout",
     "output_type": "stream",
     "text": [
      "1\n",
      "0\n",
      "720\n",
      "True\n",
      "2.0\n"
     ]
    }
   ],
   "source": [
    "import math\n",
    "\n",
    "print(math.ceil(.9)) # Get the next whole number\n",
    "print(math.floor(.9)) # Get the next lowest number\n",
    "print(math.factorial(6)) # Implements the mathematical factorial function\n",
    "print(math.isnan(float('nan'))) # Is this a Not-A-Number\n",
    "print(math.sqrt(4)) # Square root"
   ]
  },
  {
   "cell_type": "markdown",
   "metadata": {},
   "source": [
    "### random\n",
    "\n",
    "This generates pseudorandom numbers using the Mersenne Twister algorithm. For cryptographic uses this shouldn't be used."
   ]
  },
  {
   "cell_type": "code",
   "execution_count": 107,
   "metadata": {
    "ExecuteTime": {
     "end_time": "2022-01-27T20:19:20.603457Z",
     "start_time": "2022-01-27T20:19:20.593930Z"
    },
    "pycharm": {
     "name": "#%%\n"
    }
   },
   "outputs": [
    {
     "name": "stdout",
     "output_type": "stream",
     "text": [
      "4\n",
      "0.89173261699067\n",
      "5.086920869156231\n",
      "-2.330254231559188\n"
     ]
    }
   ],
   "source": [
    "import random\n",
    "\n",
    "print(random.randint(2, 10)) # Generate a random integer between 2 and 10\n",
    "print(random.random()) # Generate a random float between 0 and 1\n",
    "print(random.uniform(1, 12)) # Generate a random float between 1 and 12 using a uniform distribution\n",
    "print(random.normalvariate(0, 1)) # Generate a random float from the normal distribution (with a mean of 0 and vol of 1)"
   ]
  },
  {
   "cell_type": "markdown",
   "metadata": {},
   "source": [
    "### io\n",
    "\n",
    "The module can read and write files from disk.  We open files for read-only, write-only, or read-write access. We can read text files, or we can read files in a binary I/O way (eg. image files)."
   ]
  },
  {
   "cell_type": "code",
   "execution_count": 108,
   "metadata": {
    "ExecuteTime": {
     "end_time": "2022-01-27T20:20:36.510406Z",
     "start_time": "2022-01-27T20:20:36.484402Z"
    },
    "pycharm": {
     "name": "#%%\n"
    }
   },
   "outputs": [
    {
     "name": "stdout",
     "output_type": "stream",
     "text": [
      "['one\\n', 'more\\n', 'burger\\n']\n",
      "one\n",
      "more\n",
      "burger\n",
      "\n"
     ]
    }
   ],
   "source": [
    "import io\n",
    "\n",
    "# Open a file for write access and write it in\n",
    "with open('burgers.txt', 'w') as file:\n",
    "    file.write('burgers!!!')\n",
    "    file.write('great burgers!!!\\n')\n",
    "    file.write('more great burgers!!!\\n')\n",
    "    \n",
    "# Open a file and write a list in one go\n",
    "with open('burgers.txt', 'w') as file:\n",
    "    file.writelines(['one\\n', 'more\\n', 'burger\\n'])\n",
    "\n",
    "# Read the whole file in one go into a list (read access only)\n",
    "with open(\"burgers.txt\", \"r\", encoding=\"utf-8\") as file:\n",
    "    line = file.readlines()\n",
    "    \n",
    "print(line)\n",
    "\n",
    "# Read line by line till the end and print each line separately (read access only)\n",
    "with open(\"burgers.txt\", \"r\", encoding=\"utf-8\") as file:\n",
    "    while(True):\n",
    "        line = file.read()\n",
    "        \n",
    "        if not(line):\n",
    "            break\n",
    "            \n",
    "        print(line)"
   ]
  },
  {
   "cell_type": "markdown",
   "metadata": {},
   "source": [
    "### pickle\n",
    "\n",
    "Sometimes we want to write more complex objects to disk, in particular we can persist Python objects to disk, using the `pickle` library. However, note that not every Python object can be pickled. There is also another third party library `dill` which is a bit more flexible than `pickle`. Note, that you should never unpickle files from untrusted sources, as they might contain malicious content. Different versions of Python will have different levels of protocol, which means that pickle files are not always backward compatible."
   ]
  },
  {
   "cell_type": "code",
   "execution_count": 109,
   "metadata": {
    "ExecuteTime": {
     "end_time": "2022-01-27T20:21:51.095769Z",
     "start_time": "2022-01-27T20:21:51.073765Z"
    },
    "pycharm": {
     "name": "#%%\n"
    }
   },
   "outputs": [
    {
     "name": "stdout",
     "output_type": "stream",
     "text": [
      "{'How many burgers eaten': [1.0, 1, 3, (1+6j)], 'Types of burgers': ('burger', b'Big Mac burger byte string'), 'How truthful was the burger': {None, True, False}}\n"
     ]
    }
   ],
   "source": [
    "import pickle\n",
    "\n",
    "# Create a dictionary with lots of different types of objects\n",
    "# We could have also used a class\n",
    "data = {\n",
    "    'How many burgers eaten': [1.0, 1, 3, 1+6j],\n",
    "    'Types of burgers': (\"burger\", b\"Big Mac burger byte string\"),\n",
    "    'How truthful was the burger': {None, True, False}\n",
    "}\n",
    "\n",
    "# Dump from memory to disk\n",
    "with open('burger.pkl', 'wb') as f:\n",
    "    # Pickle the 'data' dictionary using the highest protocol available \n",
    "    # Note: when reading protocol doesn't need to be specified\n",
    "    pickle.dump(data, f, pickle.HIGHEST_PROTOCOL)\n",
    "\n",
    "# Read back from disk to memory\n",
    "with open('burger.pkl', 'rb') as f:\n",
    "    data = pickle.load(f)\n",
    "\n",
    "# Should look like the original dictionary we made\n",
    "print(data)"
   ]
  },
  {
   "cell_type": "markdown",
   "metadata": {},
   "source": [
    "### urllib.request\n",
    "\n",
    "There is a huge amount of information on the web. Python's standard library allows us to directly read webpages with relatively little problems. Note, that actually grabbing the information we want within a webpage is more tricky. We shall discuss libraries to help doing this later, such as BeautifulSoup. Below we give a very simple example loading up the Google page. Note that the start of the webpage is filled with a large amount of code. The library can also be used to post requests to a webpage."
   ]
  },
  {
   "cell_type": "code",
   "execution_count": 110,
   "metadata": {
    "ExecuteTime": {
     "end_time": "2022-01-27T20:22:18.406192Z",
     "start_time": "2022-01-27T20:22:18.251673Z"
    },
    "pycharm": {
     "name": "#%%\n"
    }
   },
   "outputs": [
    {
     "name": "stdout",
     "output_type": "stream",
     "text": [
      "b'    <!DOCTYPE html>\\n<html class=\"b-header--black--white b-pw-1280 b-reith-sans-font\">\\n\\n    <head>\\n        <meta http-equiv=\"Content-Type\" content=\"text/html; charset=UTF-8\">\\n        <meta name=\"description\" content=\"Breaking news, sport, TV, radio and a whole lot more.\\n        The BBC informs, educates and entertains - wherever you are, whatever your age.\">\\n        <meta name=\"keywords\" content=\"BBC, bbc.co.uk, bbc.com, Search, British Broadcasting Corporation, BBC iPlayer, BBCi\">\\n        <title>BBC - Homepage</title>\\n\\n        <script>\\n            window.orb_fig_blocking = true;\\n            window.bbcredirection = {geo: true};\\n        </script>\\n\\n        <!-- WWHPv: 20210923-1449-37491ec2b6e5b4c43bda3673e521e8164a789b87 -->\\n        <!-- Webapp: WWHP international homepage -->\\n        <meta property=\"fb:page_id\" content=\"228735667216\" />\\n        <meta property=\"fb:admins\" content=\"297814326937641\" />\\n        <meta property=\"fb:app_id\" content=\"187214818032936\" />\\n        <meta property=\"'\n"
     ]
    }
   ],
   "source": [
    "import urllib.request\n",
    "\n",
    "# Load up the Google webpage\n",
    "with urllib.request.urlopen('https://www.bbc.com/') as response:\n",
    "   html = response.read()\n",
    "\n",
    "# Print the first 1000 characters\n",
    "if len(html) > 1000:\n",
    "    print(html[0:1000])\n",
    "else:\n",
    "    print(html)"
   ]
  },
  {
   "cell_type": "markdown",
   "metadata": {},
   "source": [
    "### Concurrency\n",
    "\n",
    "Very often we might wish to run multiple tasks in parallel, because it's much quicker! However, it can cause complications, particularly if we are reading/writing to the same variables. It can result in some very subtle bugs which are difficult to find. In this instance, we need to be careful to look shared variables, so only one thread can read/write to it in any time.\n",
    "\n",
    "If your operation is \"embarrassingly parallel\" and doesn't require the reading/writing to shared memory it is much easier. This could for example involve reading from many different webpages or generating many Monte Carlo paths indepedently.\n",
    "\n",
    "Python has the GIL, global interpreter lock, which means that at any particular time only one operation can be executed. `threading` (see https://docs.python.org/3/library/threading.html) and `asyncio` modules allow us to kick off concurrent code, but it should be noted, they will only be useful for IO bound operations (as in practice they don't actually allow execution of more than one instruction at the same time). IO bound operations are things like reading/writing from disk or fetching webpages. Most of the time here is spent waiting for the IO operation to complete.\n",
    "\n",
    "By constrast, heavy number crunching is more limited by the CPU, rather than IO considerations. If we want to parallelise CPU bound operations, we should use a library like `multiprocessing` (see https://docs.python.org/3/library/multiprocessing.html). Given that `multiprocessing` actually kicks off different Python instances to do the computation, underneath it uses `pickle` to serialize/deserialize objects to send them back and forth between the various processes.\n",
    "\n",
    "There are also third party libraries that are worth looking at such as `multiprocess` and `pathos`, which use `dill` for pickling rather than `pickle` and are a bit more flexible. In all these instances, there's obviously quite a bit of overhead when doing the serialisation/deserialisation, hence, we should try to limit the amount of data which goes back and forth and interprocess communicaiton.\n",
    "\n",
    "We shall now do a demo comparing `threading` vs `multiprocessing`. We shall use `concurrent.futures` library (see https://docs.python.org/3/library/concurrent.futures.html) which is an abstraction on top of `threading` and `multiprocessing`. Note, that we shall run this script separately, as the `multiprocessing` library does not work when using Python interactively in Windows (it should work in Linux) - although the code is below for your reference. We shall examine how these various libraries can be used to speed up the downloading of webpages.\n",
    "\n",
    "We'll find that running single threaded webpage downloads is much slower, than the threaded (or process) versions.\n",
    "\n",
    "    import urllib.request\n",
    "    import concurrent.futures\n",
    "\n",
    "    from multiprocessing import Pool\n",
    "\n",
    "    import time\n",
    "\n",
    "    ## URLS to download\n",
    "    URLS = ['http://www.foxnews.com/',\n",
    "            'http://www.cnn.com/',\n",
    "            'http://europe.wsj.com/',\n",
    "            'http://www.bbc.co.uk/'] * 20\n",
    "\n",
    "    def time_func(func):\n",
    "        \"\"\"Wrap a function with a timer\n",
    "\n",
    "        Parameters\n",
    "        ----------\n",
    "        func : func\n",
    "            Function to decorate\n",
    "\n",
    "        Returns\n",
    "        -------\n",
    "        func\n",
    "        \"\"\"\n",
    "\n",
    "        def wrapper():\n",
    "            start_time = time.time()\n",
    "            x = func()\n",
    "            duration = str(round(time.time() - start_time, 1))\n",
    "\n",
    "            print(\"Function ran in %s seconds\" %duration)\n",
    "\n",
    "            return x\n",
    "\n",
    "        return wrapper\n",
    "\n",
    "    def load_url(url, timeout=15):\n",
    "        \"\"\"Loads the raw text from a URL\n",
    "\n",
    "        Parameters\n",
    "        ----------\n",
    "        url : str\n",
    "            URL to download\n",
    "\n",
    "        timeout : int (optional)\n",
    "            Number of seconds to timeout\n",
    "\n",
    "        Returns\n",
    "        -------\n",
    "        str\n",
    "        \"\"\"\n",
    "        return urllib.request.urlopen(url, timeout=timeout).read()\n",
    "\n",
    "    @time_func\n",
    "    def run_single_thread():\n",
    "        \"\"\"Loads URLs in a single threaded way.\n",
    "\n",
    "        Returns\n",
    "        -------\n",
    "        str (list)\n",
    "        \"\"\"\n",
    "        print('--- Single thread ---')\n",
    "        return [load_url(x) for x in URLS]\n",
    "\n",
    "\n",
    "    @time_func\n",
    "    def run_concurrent_futures_threadpool():\n",
    "        \"\"\"Loads URLs using concurrent.futures (abstraction on top of threading)\n",
    "\n",
    "        Returns\n",
    "        -------\n",
    "        str (list)\n",
    "        \"\"\"\n",
    "\n",
    "        print('--- Concurrent futures threadpool ---')\n",
    "        with concurrent.futures.ThreadPoolExecutor(max_workers=5) as executor:\n",
    "            return list(executor.map(load_url, URLS))\n",
    "\n",
    "    @time_func\n",
    "    def run_concurrent_futures_processpool():\n",
    "        \"\"\"Loads URLs using concurrent.futures (abstraction on top of multiprocessing)\n",
    "\n",
    "        Returns\n",
    "        -------\n",
    "        str (list)\n",
    "        \"\"\"\n",
    "\n",
    "        print('--- Concurrent futures processpool ---')\n",
    "        with concurrent.futures.ProcessPoolExecutor(max_workers=5) as executor:\n",
    "            return list(executor.map(load_url, URLS))\n",
    "\n",
    "    @time_func\n",
    "    def run_multiproccesing():\n",
    "        \"\"\"Loads URLs using multiprocessor directly, rather than using via concurrent.futures\n",
    "\n",
    "        Returns\n",
    "        -------\n",
    "        str (list)\n",
    "        \"\"\"\n",
    "\n",
    "        print('--- Multiprocessing ---')\n",
    "        with Pool(5) as executor:\n",
    "            return list(executor.map(load_url, URLS))\n",
    "\n",
    "    if __name__ == \"__main__\":\n",
    "        ### kick off each example and compare timings!\n",
    "\n",
    "        # the \"__main__\" indicates the code inside this if statement should only be executed when you run the file which\n",
    "        # contains those code block. It will not executed if the program is imported as a module.\n",
    "\n",
    "        # multiprocessing code must be executed under the __main__ block\n",
    "\n",
    "        single_threaded_webpages = run_single_thread()\n",
    "        print(len(single_threaded_webpages))\n",
    "\n",
    "        concurrent_futures_webpages_threadpool = run_concurrent_futures_threadpool()\n",
    "        print(len(concurrent_futures_webpages_threadpool))\n",
    "\n",
    "        concurrent_futures_webpages_processpool = run_concurrent_futures_processpool()\n",
    "        print(len(concurrent_futures_webpages_processpool))\n",
    "\n",
    "        multiprocessing_webpages = run_multiproccesing()\n",
    "        print(len(multiprocessing_webpages))\n"
   ]
  },
  {
   "cell_type": "markdown",
   "metadata": {},
   "source": [
    "## Objects and classes\n",
    "\n",
    "Python also has support for object oriented programming. You can create a class, which contains both data and ways of manipulating that data. We can create new instances of the same class. Each instance has attributes which tell us about its current state. Methods in each class instances can manipulate the current state of that class. \n",
    "\n",
    "Python supports concepts like inheritance, which enable us to create similar related classes which share functionality."
   ]
  },
  {
   "cell_type": "markdown",
   "metadata": {},
   "source": [
    "### Burger example - object oriented example\n",
    "\n",
    "Below we give a simple example of how to create a class."
   ]
  },
  {
   "cell_type": "code",
   "execution_count": 87,
   "metadata": {
    "ExecuteTime": {
     "end_time": "2020-06-04T19:57:53.497031Z",
     "start_time": "2020-06-04T19:57:53.492044Z"
    },
    "pycharm": {
     "name": "#%%\n"
    }
   },
   "outputs": [],
   "source": [
    "class Burger(object):\n",
    "    \n",
    "    food = 'burger' # This variable is shared by all the instances!\n",
    "    \n",
    "    def __init__(self, burger_type): # The __init__ method gets called when the object is instantiated\n",
    "        self.burger_type = burger_type # This variable is different\n",
    "        \n",
    "    def print_burger_type(self): # Note: for methods, we have to add 'self' as a parameter\n",
    "        print(self.burger_type)"
   ]
  },
  {
   "cell_type": "markdown",
   "metadata": {},
   "source": [
    "Let's instantiate several different burgers and call methods within that."
   ]
  },
  {
   "cell_type": "code",
   "execution_count": 88,
   "metadata": {
    "ExecuteTime": {
     "end_time": "2020-06-04T19:57:53.506007Z",
     "start_time": "2020-06-04T19:57:53.498028Z"
    },
    "pycharm": {
     "name": "#%%\n"
    }
   },
   "outputs": [
    {
     "name": "stdout",
     "output_type": "stream",
     "text": [
      "burger\n",
      "cheese\n",
      "burger\n",
      "veggie\n"
     ]
    }
   ],
   "source": [
    "cheese_burger = Burger('cheese')\n",
    "veggie_burger = Burger('veggie')\n",
    "\n",
    "print(cheese_burger.food)\n",
    "\n",
    "cheese_burger.print_burger_type()\n",
    "\n",
    "print(veggie_burger.food)\n",
    "\n",
    "veggie_burger.print_burger_type()"
   ]
  },
  {
   "cell_type": "markdown",
   "metadata": {},
   "source": [
    "We can use inheritance to make similar class (`CheeseBurger`), which inherit their methods and attributes, to which we can add more methods and attributes. Note, that we can also choose to override the methods of the superclass (in this case `Burger`). Using the keyword `super` allows us to specifially access the methods and attributes in the superclass."
   ]
  },
  {
   "cell_type": "code",
   "execution_count": 89,
   "metadata": {
    "ExecuteTime": {
     "end_time": "2020-06-04T19:57:53.515980Z",
     "start_time": "2020-06-04T19:57:53.507004Z"
    },
    "pycharm": {
     "name": "#%%\n"
    }
   },
   "outputs": [
    {
     "name": "stdout",
     "output_type": "stream",
     "text": [
      "Calling the super class Burger...\n",
      "whopper\n",
      "brie\n",
      "brie\n"
     ]
    }
   ],
   "source": [
    "class CheeseBurger(Burger):\n",
    "    \n",
    "    def __init__(self, burger_type, cheese_type):\n",
    "        super(CheeseBurger, self).__init__(burger_type)\n",
    "        \n",
    "        self.cheese_type = cheese_type\n",
    "    \n",
    "    def print_cheese_type(self):\n",
    "        print(self.cheese_type)\n",
    "        \n",
    "    def print_burger_type(self):\n",
    "        print('Calling the super class Burger...')\n",
    "        \n",
    "        # Super enables us to call methods in the superclass\n",
    "        super().print_burger_type()\n",
    "        \n",
    "    def another_way_to_print_cheese_type(self):\n",
    "        \n",
    "        # We can call other methods in the same class using self\n",
    "        self.print_cheese_type()\n",
    "        \n",
    "special_cheese_burger = CheeseBurger('whopper', 'brie')\n",
    "special_cheese_burger.print_burger_type()\n",
    "special_cheese_burger.print_cheese_type()\n",
    "special_cheese_burger.another_way_to_print_cheese_type()"
   ]
  },
  {
   "cell_type": "markdown",
   "metadata": {},
   "source": [
    "If we want to change the attributes we can just get and them directly."
   ]
  },
  {
   "cell_type": "code",
   "execution_count": 90,
   "metadata": {
    "ExecuteTime": {
     "end_time": "2020-06-04T19:57:53.523959Z",
     "start_time": "2020-06-04T19:57:53.516977Z"
    },
    "pycharm": {
     "name": "#%%\n"
    }
   },
   "outputs": [
    {
     "name": "stdout",
     "output_type": "stream",
     "text": [
      "manchego\n"
     ]
    }
   ],
   "source": [
    "special_cheese_burger.cheese_type = 'manchego'\n",
    "special_cheese_burger.print_cheese_type()"
   ]
  },
  {
   "cell_type": "markdown",
   "metadata": {},
   "source": [
    "However, we might want to make an attribute private, so outside callers, can't directly change it. A more Pythonic way to get and set attributes is to use properties. This also enables us to add addtional code when getting and setting an object's attributes. Note, Python will still let outside callers change private attributes directly (unlike languages like Java), but hopefully callers, will recognise which attributes have been made private! It involves adding decorators (which have `@` symbols) before each method."
   ]
  },
  {
   "cell_type": "code",
   "execution_count": 91,
   "metadata": {
    "ExecuteTime": {
     "end_time": "2020-06-04T19:57:53.532935Z",
     "start_time": "2020-06-04T19:57:53.524956Z"
    },
    "pycharm": {
     "name": "#%%\n"
    }
   },
   "outputs": [
    {
     "name": "stdout",
     "output_type": "stream",
     "text": [
      "Set burger type\n",
      "Set cheese type\n",
      "brie\n"
     ]
    }
   ],
   "source": [
    "class CheeseBurgerWithProperties(CheeseBurger):\n",
    "    \n",
    "    def __init__(self, burger_type, cheese_type):\n",
    "        super(CheeseBurgerWithProperties, self).__init__(burger_type, cheese_type)\n",
    "        \n",
    "    @property\n",
    "    def cheese_type(self):\n",
    "        return self.__cheese_type\n",
    "\n",
    "    @cheese_type.setter\n",
    "    def cheese_type(self, cheese_type):\n",
    "        print('Set cheese type')\n",
    "        self.__cheese_type = cheese_type\n",
    "        \n",
    "    @property\n",
    "    def burger_type(self):\n",
    "        return self.__burger_type\n",
    "\n",
    "    @burger_type.setter\n",
    "    def burger_type(self, burger_type):\n",
    "        print('Set burger type')\n",
    "        self.__burger_type = burger_type\n",
    "        \n",
    "burger = CheeseBurgerWithProperties('big mac', 'brie')\n",
    "print(burger.cheese_type)"
   ]
  },
  {
   "cell_type": "markdown",
   "metadata": {},
   "source": [
    "We can also create our own decorators, functions which wrap around calling functions."
   ]
  },
  {
   "cell_type": "code",
   "execution_count": 92,
   "metadata": {
    "ExecuteTime": {
     "end_time": "2020-06-04T19:57:53.542908Z",
     "start_time": "2020-06-04T19:57:53.533932Z"
    },
    "pycharm": {
     "name": "#%%\n"
    }
   },
   "outputs": [
    {
     "name": "stdout",
     "output_type": "stream",
     "text": [
      "About to order a burger\n",
      "Going to Burger King\n",
      "Burger has been ordered burger\n"
     ]
    }
   ],
   "source": [
    "def burger_maker(func):\n",
    "    \n",
    "    def wrapper():\n",
    "        print(\"About to order a burger\")\n",
    "        func()\n",
    "        print(\"Burger has been ordered burger\")\n",
    "        \n",
    "    return wrapper\n",
    "\n",
    "def go_to_burger_joint():\n",
    "    print(\"Going to Burger King\")\n",
    "\n",
    "# We can use \"syntactic sugar\" to use our decorator function\n",
    "@burger_maker\n",
    "def go_to_decorated_burger_joint():\n",
    "    print(\"Going to Burger King\")\n",
    "    \n",
    "get_a_burger = go_to_decorated_burger_joint()\n",
    "\n",
    "# This equivalent to get_a_burger = burger_maker(go_to_burger_joint)"
   ]
  },
  {
   "cell_type": "markdown",
   "metadata": {},
   "source": [
    "### Student example - object oriented programming"
   ]
  },
  {
   "cell_type": "markdown",
   "metadata": {},
   "source": [
    "If we think of variables like integers, strings etc. they enable us to store lots of different types of information. We tend to think of these as primative types. We also have abstract data types such as lists, sets and dictionaries, which let us aggregate many of these more basic data types.\n",
    "\n",
    "We can for example have a list of integers, a dictionary with string keys and int values."
   ]
  },
  {
   "cell_type": "code",
   "execution_count": 93,
   "metadata": {
    "ExecuteTime": {
     "end_time": "2020-06-04T19:57:53.550887Z",
     "start_time": "2020-06-04T19:57:53.544903Z"
    },
    "pycharm": {
     "name": "#%%\n"
    }
   },
   "outputs": [],
   "source": [
    "a_sample_list = [1, 2, 3]\n",
    "a_dict = {'Saeed' : 1, 'Alex' : 3}"
   ]
  },
  {
   "cell_type": "markdown",
   "metadata": {},
   "source": [
    "But let's say we want to represent something much more complex, which cannot be described with just an integer or a string. Let's say we want to describe of group of students. Each student has many different sorts of properties to describe them. We list some examples below.\n",
    "\n",
    "* Unique ID number (integer)\n",
    "* First name (string)\n",
    "* Second name (string)\n",
    "* Age (integer)\n",
    "* Modules they are studying\n",
    "* Graduated (boolean)"
   ]
  },
  {
   "cell_type": "markdown",
   "metadata": {},
   "source": [
    "Some of these attributes are unlikely to change, eg. their first name. However, other attributes may well change. They might want to register for new courses, or we might want to change their status to graduated at the end of the course. How do we store their details in Python?"
   ]
  },
  {
   "cell_type": "markdown",
   "metadata": {},
   "source": [
    "We can create more customised types known as classes, to hold all these various properties. At the same time, within the class, we also want to have methods (basically functions), which can do various tasks for students such as registering them for new courses. We can create a single Student class, and then create (or instantiate) a version of it for each student. Each student will be represented by a version of the Student class."
   ]
  },
  {
   "cell_type": "markdown",
   "metadata": {},
   "source": [
    "This approach of creating classes with can store properties and also the methods to manipulate the state of the properties is known as object oriented programming. Python like many computer languages supports object oriented programming."
   ]
  },
  {
   "cell_type": "markdown",
   "metadata": {},
   "source": [
    "#### How to code up a class for our Student class\n",
    "\n",
    "Let's create our very simple class for storing student details. Let's make it simple, so we only store the first name, second name, their age and whether they are graduated or not for each student. These are the only properties we will store. We need to write specific methods to set and get the properties. We also can write methods that use the properties to do some of calculation or output. We shall go through every line."
   ]
  },
  {
   "cell_type": "code",
   "execution_count": 112,
   "metadata": {
    "ExecuteTime": {
     "end_time": "2022-01-27T20:29:50.050493Z",
     "start_time": "2022-01-27T20:29:50.033490Z"
    },
    "pycharm": {
     "name": "#%%\n"
    }
   },
   "outputs": [],
   "source": [
    "# We use the class keyword\n",
    "class Student(object):\n",
    "    \n",
    "    \n",
    "    # The __init__ method is called when the Student class is first created\n",
    "    # Let's assume that when each student class is created, we are given\n",
    "    # - first name (str)\n",
    "    # - second name (str)\n",
    "    # - age (int)\n",
    "    # - graduated (bool)\n",
    "    \n",
    "    # note, the use of the \"self keyword\" in every method of the class\n",
    "    def __init__(self, first_name, surname, age, graduated):\n",
    "        \n",
    "        # We need to set the properties for first_name\n",
    "        # second_name and graduated\n",
    "        # (note: we'll later write the code for setting these properties)\n",
    "        \n",
    "        self.first_name = first_name\n",
    "        self.surname = surname\n",
    "        self.age = age\n",
    "        self.graduated = graduated\n",
    "        \n",
    "    # note the use of __ - this is used to denote that this is property\n",
    "    # shouldn't be directly accessed by calling classes\n",
    "    # we should only access the variable via these methods\n",
    "    @property\n",
    "    def first_name(self):\n",
    "        return self.__first_name\n",
    "\n",
    "    @first_name.setter\n",
    "    def first_name(self, first_name):\n",
    "        self.__first_name = first_name\n",
    "        \n",
    "    @property\n",
    "    def surname(self):\n",
    "        return self.__surname\n",
    "\n",
    "    @surname.setter\n",
    "    def surname(self, surname):\n",
    "        self.__surname = surname\n",
    "        \n",
    "    @property\n",
    "    def age(self):\n",
    "        return self.__age\n",
    "\n",
    "    @age.setter\n",
    "    def age(self, age):\n",
    "        self.__age = age\n",
    "        \n",
    "    @property\n",
    "    def graduated(self):\n",
    "        return self.__graduated\n",
    "\n",
    "    @graduated.setter\n",
    "    def graduated(self, graduated):\n",
    "        \n",
    "        # we can also make the property setter method more complicated\n",
    "        # to check the inputs\n",
    "        if graduated:\n",
    "            if self.age > 21:\n",
    "                self.__graduated = graduated\n",
    "            else:\n",
    "                print('Student needs to be more than 21 years old to have graduated, setting student to not graduated')\n",
    "                self.__graduated = False\n",
    "        else:\n",
    "            self.__graduated = graduated\n",
    "            \n",
    "    # print the student details\n",
    "    def print_student_details(self):\n",
    "        if self.graduated:\n",
    "            has_graduated = \"graduated\"\n",
    "        else:\n",
    "            has_graduated = \"have not graduated\"\n",
    "            \n",
    "        print(self.first_name + \" \" + self.surname + \" is \" + str(self.age) + \". They have \" + has_graduated)"
   ]
  },
  {
   "cell_type": "markdown",
   "metadata": {},
   "source": [
    "Ok, that class looks like a lot of code! However, in practice we can see that most of the properties get/set stuff is relatively repeatative. Note, also the method print_student_details, which uses the properties to execute. We are holding the properties and the method for manipulating in the same body of code/class."
   ]
  },
  {
   "cell_type": "markdown",
   "metadata": {},
   "source": [
    "We can then instiantiate Student objects, to represent different students."
   ]
  },
  {
   "cell_type": "code",
   "execution_count": 113,
   "metadata": {
    "ExecuteTime": {
     "end_time": "2022-01-27T20:29:51.963240Z",
     "start_time": "2022-01-27T20:29:51.948236Z"
    },
    "pycharm": {
     "name": "#%%\n"
    }
   },
   "outputs": [],
   "source": [
    "saeed = Student('Saeed', 'Amen', 22, True)"
   ]
  },
  {
   "cell_type": "markdown",
   "metadata": {},
   "source": [
    "We can retrieve the properties using the '.'"
   ]
  },
  {
   "cell_type": "code",
   "execution_count": 114,
   "metadata": {
    "ExecuteTime": {
     "end_time": "2022-01-27T20:31:16.643551Z",
     "start_time": "2022-01-27T20:31:16.636551Z"
    },
    "pycharm": {
     "name": "#%%\n"
    }
   },
   "outputs": [
    {
     "name": "stdout",
     "output_type": "stream",
     "text": [
      "22\n"
     ]
    }
   ],
   "source": [
    "age = saeed.age\n",
    "\n",
    "print(age)"
   ]
  },
  {
   "cell_type": "code",
   "execution_count": 117,
   "metadata": {
    "ExecuteTime": {
     "end_time": "2022-01-27T20:31:37.172496Z",
     "start_time": "2022-01-27T20:31:37.155494Z"
    },
    "pycharm": {
     "name": "#%%\n"
    }
   },
   "outputs": [
    {
     "name": "stdout",
     "output_type": "stream",
     "text": [
      "Amen\n"
     ]
    }
   ],
   "source": [
    "surname = saeed.surname\n",
    "\n",
    "print(surname)"
   ]
  },
  {
   "cell_type": "markdown",
   "metadata": {},
   "source": [
    "If we want to change the age, we can set the age property like this."
   ]
  },
  {
   "cell_type": "code",
   "execution_count": 98,
   "metadata": {
    "ExecuteTime": {
     "end_time": "2020-06-04T19:57:53.595767Z",
     "start_time": "2020-06-04T19:57:53.587788Z"
    },
    "pycharm": {
     "name": "#%%\n"
    }
   },
   "outputs": [
    {
     "name": "stdout",
     "output_type": "stream",
     "text": [
      "23\n"
     ]
    }
   ],
   "source": [
    "saeed.age = 23\n",
    "\n",
    "print(saeed.age)"
   ]
  },
  {
   "cell_type": "markdown",
   "metadata": {},
   "source": [
    "We can instantiate other students..!"
   ]
  },
  {
   "cell_type": "code",
   "execution_count": 118,
   "metadata": {
    "ExecuteTime": {
     "end_time": "2022-01-27T20:32:11.527209Z",
     "start_time": "2022-01-27T20:32:11.515195Z"
    },
    "pycharm": {
     "name": "#%%\n"
    }
   },
   "outputs": [],
   "source": [
    "jeff = Student('Jeff', 'Bezos', 22, True)"
   ]
  },
  {
   "cell_type": "markdown",
   "metadata": {},
   "source": [
    "Let's try instiantiating a student who is 20, and say they have graduated. The property setter will complain!"
   ]
  },
  {
   "cell_type": "code",
   "execution_count": 120,
   "metadata": {
    "ExecuteTime": {
     "end_time": "2022-01-27T20:32:38.031340Z",
     "start_time": "2022-01-27T20:32:38.025339Z"
    },
    "pycharm": {
     "name": "#%%\n"
    }
   },
   "outputs": [
    {
     "name": "stdout",
     "output_type": "stream",
     "text": [
      "Student needs to be more than 21 years old to have graduated, setting student to not graduated\n"
     ]
    }
   ],
   "source": [
    "saeed_jr = Student('Saeed Jr', 'Amen', 20, True)"
   ]
  },
  {
   "cell_type": "markdown",
   "metadata": {},
   "source": [
    "Just like with primitive types, we can combine classes we create like Student, with abstract datatypes, such as lists and dictionaries."
   ]
  },
  {
   "cell_type": "code",
   "execution_count": 121,
   "metadata": {
    "ExecuteTime": {
     "end_time": "2022-01-27T20:32:54.762273Z",
     "start_time": "2022-01-27T20:32:54.758271Z"
    },
    "pycharm": {
     "name": "#%%\n"
    }
   },
   "outputs": [],
   "source": [
    "student_lst = [saeed, jeff, saeed_jr]"
   ]
  },
  {
   "cell_type": "markdown",
   "metadata": {},
   "source": [
    "We can iterate through this list in the same way that we could do with a list of strings for example."
   ]
  },
  {
   "cell_type": "code",
   "execution_count": 122,
   "metadata": {
    "ExecuteTime": {
     "end_time": "2022-01-27T20:33:08.320727Z",
     "start_time": "2022-01-27T20:33:08.304724Z"
    },
    "pycharm": {
     "name": "#%%\n"
    }
   },
   "outputs": [
    {
     "name": "stdout",
     "output_type": "stream",
     "text": [
      "Saeed Amen is 22. They have graduated\n",
      "Jeff Bezos is 22. They have graduated\n",
      "Saeed Jr Amen is 20. They have have not graduated\n"
     ]
    }
   ],
   "source": [
    "for s in student_lst:\n",
    "    s.print_student_details()"
   ]
  },
  {
   "cell_type": "markdown",
   "metadata": {},
   "source": [
    "We could also create a dictionary of Student objects too. We can make the key, an integer, which represents the student surname.. However, we have two students with the same surname, so maybe this isn't such a good idea, as keys have to be unique! In practice, you might have a unique identifier such as an ID number."
   ]
  },
  {
   "cell_type": "code",
   "execution_count": 123,
   "metadata": {
    "ExecuteTime": {
     "end_time": "2022-01-27T20:33:14.744663Z",
     "start_time": "2022-01-27T20:33:14.741649Z"
    },
    "pycharm": {
     "name": "#%%\n"
    }
   },
   "outputs": [],
   "source": [
    "student_dict = {'Amen' : saeed, 'Bezos' : jeff, 'Amen' : saeed_jr}"
   ]
  },
  {
   "cell_type": "code",
   "execution_count": 124,
   "metadata": {
    "ExecuteTime": {
     "end_time": "2022-01-27T20:33:15.725054Z",
     "start_time": "2022-01-27T20:33:15.708058Z"
    },
    "pycharm": {
     "name": "#%%\n"
    }
   },
   "outputs": [
    {
     "name": "stdout",
     "output_type": "stream",
     "text": [
      "dict_keys(['Amen', 'Bezos'])\n"
     ]
    }
   ],
   "source": [
    "print(student_dict.keys())"
   ]
  },
  {
   "cell_type": "markdown",
   "metadata": {},
   "source": [
    "#### Inheritance and creating MastersStudent subclass"
   ]
  },
  {
   "cell_type": "markdown",
   "metadata": {},
   "source": [
    "In practice you have many different types of students. They share properties! They all have first names, surnames etc. But then they might have small differences. Let's say we take a master's student. They will also have an undergraduate degree too. How could we record this property? We could just create a totally new MastersStudent class, basically copying and pasting all the code. However, this does not seem very efficient! \n",
    "\n",
    "Instead, we can use inheritance, to create a MastersStudent class which inherits the properties of the Student class and adds a new one undergraduate_degree."
   ]
  },
  {
   "cell_type": "code",
   "execution_count": 125,
   "metadata": {
    "ExecuteTime": {
     "end_time": "2022-01-27T20:33:56.129274Z",
     "start_time": "2022-01-27T20:33:56.119279Z"
    },
    "pycharm": {
     "name": "#%%\n"
    }
   },
   "outputs": [],
   "source": [
    "# We are extending the Student class\n",
    "# Student is the superclass of MastersStudent\n",
    "# MastersStudent is the subclass of Student\n",
    "class MastersStudent(Student):\n",
    "    \n",
    "    def __init__(self, first_name, surname, age, graduated, undergraduate_degree):\n",
    "        \n",
    "        # note: use of super, to call the __init__ method in the superclass\n",
    "        super(MastersStudent, self).__init__(first_name, surname, age, graduated)\n",
    "        \n",
    "        self.undergraduate_degree = undergraduate_degree\n",
    "    \n",
    "    @property\n",
    "    def undergraduate_degree(self):\n",
    "        return self.__undergraduate_degree\n",
    "\n",
    "    @undergraduate_degree.setter\n",
    "    def undergraduate_degree(self, undergraduate_degree):\n",
    "        self.__undergraduate_degree = undergraduate_degree"
   ]
  },
  {
   "cell_type": "markdown",
   "metadata": {},
   "source": [
    "Let's create a new Master's student object."
   ]
  },
  {
   "cell_type": "code",
   "execution_count": 126,
   "metadata": {
    "ExecuteTime": {
     "end_time": "2022-01-27T20:34:18.536738Z",
     "start_time": "2022-01-27T20:34:18.530040Z"
    },
    "pycharm": {
     "name": "#%%\n"
    }
   },
   "outputs": [],
   "source": [
    "bill_clinton = MastersStudent('Bill', 'Clinton', 24, True, 'Law')"
   ]
  },
  {
   "cell_type": "markdown",
   "metadata": {},
   "source": [
    "We can retrieve properties like age, which are from the superclass!"
   ]
  },
  {
   "cell_type": "code",
   "execution_count": 127,
   "metadata": {
    "ExecuteTime": {
     "end_time": "2022-01-27T20:34:25.956900Z",
     "start_time": "2022-01-27T20:34:25.953898Z"
    },
    "pycharm": {
     "name": "#%%\n"
    }
   },
   "outputs": [
    {
     "name": "stdout",
     "output_type": "stream",
     "text": [
      "24\n"
     ]
    }
   ],
   "source": [
    "print(bill_clinton.age)"
   ]
  },
  {
   "cell_type": "markdown",
   "metadata": {},
   "source": [
    "And also properties specific to the subclass, like undergraduate degree"
   ]
  },
  {
   "cell_type": "code",
   "execution_count": 128,
   "metadata": {
    "ExecuteTime": {
     "end_time": "2022-01-27T20:34:33.028244Z",
     "start_time": "2022-01-27T20:34:33.019243Z"
    },
    "pycharm": {
     "name": "#%%\n"
    }
   },
   "outputs": [
    {
     "name": "stdout",
     "output_type": "stream",
     "text": [
      "Law\n"
     ]
    }
   ],
   "source": [
    "print(bill_clinton.undergraduate_degree)"
   ]
  },
  {
   "cell_type": "markdown",
   "metadata": {},
   "source": [
    "As well as methods from the superclass."
   ]
  },
  {
   "cell_type": "code",
   "execution_count": 129,
   "metadata": {
    "ExecuteTime": {
     "end_time": "2022-01-27T20:34:36.863448Z",
     "start_time": "2022-01-27T20:34:36.846445Z"
    },
    "pycharm": {
     "name": "#%%\n"
    }
   },
   "outputs": [
    {
     "name": "stdout",
     "output_type": "stream",
     "text": [
      "Bill Clinton is 24. They have graduated\n"
     ]
    }
   ],
   "source": [
    "bill_clinton.print_student_details()"
   ]
  },
  {
   "cell_type": "markdown",
   "metadata": {},
   "source": [
    "We can end up creating very complicated examples, for example nesting classes. We could create a University class, which contains a list of Student classes in it. We have a method which returns those students at the university with a certain surname."
   ]
  },
  {
   "cell_type": "code",
   "execution_count": 130,
   "metadata": {
    "ExecuteTime": {
     "end_time": "2022-01-27T20:34:45.357105Z",
     "start_time": "2022-01-27T20:34:45.349104Z"
    },
    "pycharm": {
     "name": "#%%\n"
    }
   },
   "outputs": [],
   "source": [
    "class University(object):\n",
    "    \n",
    "    def __init__(self, student):\n",
    "        self.student = student\n",
    "        \n",
    "    @property\n",
    "    def student(self):\n",
    "        return self.__student\n",
    "\n",
    "    @student.setter\n",
    "    def student(self, student):\n",
    "        if isinstance(student, Student):\n",
    "            student = [student]\n",
    "            \n",
    "        self.__student = student\n",
    "        \n",
    "    def find_student_surname(self, surname):\n",
    "        matching_student = []\n",
    "        \n",
    "        for s in self.student:\n",
    "            if s.surname is surname:\n",
    "                matching_student.append(s)\n",
    "        \n",
    "        return matching_student"
   ]
  },
  {
   "cell_type": "markdown",
   "metadata": {},
   "source": [
    "Let's create a University filled with our previously populated list of students. First, let's recall the list.."
   ]
  },
  {
   "cell_type": "code",
   "execution_count": 131,
   "metadata": {
    "ExecuteTime": {
     "end_time": "2022-01-27T20:34:48.214673Z",
     "start_time": "2022-01-27T20:34:48.206673Z"
    },
    "pycharm": {
     "name": "#%%\n"
    }
   },
   "outputs": [
    {
     "name": "stdout",
     "output_type": "stream",
     "text": [
      "Saeed Amen is 22. They have graduated\n",
      "Jeff Bezos is 22. They have graduated\n",
      "Saeed Jr Amen is 20. They have have not graduated\n"
     ]
    }
   ],
   "source": [
    "for s in student_lst:\n",
    "    s.print_student_details()"
   ]
  },
  {
   "cell_type": "code",
   "execution_count": 132,
   "metadata": {
    "ExecuteTime": {
     "end_time": "2022-01-27T20:34:48.919675Z",
     "start_time": "2022-01-27T20:34:48.903676Z"
    },
    "pycharm": {
     "name": "#%%\n"
    }
   },
   "outputs": [],
   "source": [
    "uni = University(student_lst)"
   ]
  },
  {
   "cell_type": "markdown",
   "metadata": {},
   "source": [
    "Now, let's retrieve all the students with surname 'Amen' and print out their output."
   ]
  },
  {
   "cell_type": "code",
   "execution_count": 133,
   "metadata": {
    "ExecuteTime": {
     "end_time": "2022-01-27T20:34:50.060763Z",
     "start_time": "2022-01-27T20:34:50.050762Z"
    },
    "pycharm": {
     "name": "#%%\n"
    }
   },
   "outputs": [
    {
     "name": "stdout",
     "output_type": "stream",
     "text": [
      "Saeed Amen is 22. They have graduated\n",
      "Saeed Jr Amen is 20. They have have not graduated\n"
     ]
    }
   ],
   "source": [
    "student_amen = uni.find_student_surname('Amen')\n",
    "\n",
    "for s in student_amen:\n",
    "    s.print_student_details()\n"
   ]
  },
  {
   "cell_type": "markdown",
   "metadata": {},
   "source": [
    "## Tutorial: Introduction to Python\n",
    "\n",
    "Below we have a few Python code writing exercises to try, using what you have learnt. \n",
    "\n",
    "### Install Anaconda and PyCharm\n",
    "\n",
    "Before doing this, it's worth trying to install Anaconda and PyCharm (see separate notebook with full instructions) and all the other Python libraries you'll need for this Python course. Alternatively, do this for the next class and just use https://repl.it/languages/python3 for this tutorial.\n",
    "\n",
    "### Get familar with various code editors\n",
    "\n",
    "* Try Notebook or similar tool\n",
    "* Also try an IDE like PyCharm or VSCode if available\n",
    "\n",
    "### Create a 'Hello World' application\n",
    "\n",
    "* Print a \"Hello world\" string\n",
    "* Print a number\n",
    "\n",
    "### Variables and basic operators\n",
    "\n",
    "* Create integer, float and string variables and check their types \n",
    "* What does 3 > 2 evaluate to?\n",
    "* What does 3 > 3 evaluate to?\n",
    "* Multiply 10 by 10 and print output\n",
    "* Concatenate two strings together and print output\n",
    "\n",
    "### Working with lists\n",
    "\n",
    "* Create a list of numbers from 1-5\n",
    "* Add an element on the end\n",
    "* Remove the first element\n",
    "* Remove the last element\n",
    "\n",
    "\n",
    "### Using dictionaries\n",
    "\n",
    "* Create a dictionary consisting of a surnames as keys, and first names as values for members of The Beatles\n",
    "* Print all the keys\n",
    "* Print all the values\n",
    "* Try looking up some values for given keys and printing them\n",
    "\n",
    "### Conditionals and loops\n",
    "\n",
    "* Print random numbers with a pause\n",
    "* Print all the elements of a list of numbers, each on their own line with a for loop\n",
    "* Use an if statement, which prints \"True\" if a > b (where a and b are integer variables of your choice), and prints false otherwise\n",
    "\n",
    "\n",
    "### Basic functions\n",
    "\n",
    "* Create a function which takes in two numbers and multiplies them giving the result\n",
    "* Test it out with two numbers\n",
    "* Write a function which takes in a list, and print the first and last elements on different lines\n",
    "* Test out this function with some lists (careful, edge cases!)\n",
    "\n",
    "### Writing simple function to do a mathematical operation\n",
    "\n",
    "* Factorial computation (ie. n!) both with recursive and iterative (don't just use the builtin factorial function, although this can be used to check your work!)\n",
    "* Use multiprocessing to calculate factorial of several numbers\n",
    "\n",
    "### Writing a function to sort a list\n",
    "\n",
    "* Use built in sort() function on your list to check your algorithm\n",
    "* Hint: look at sorting algorithms like bubblesort, quicksort\n",
    "* If you end up implementing multiple sorting algorithms, which one is quickest?\n",
    "\n",
    "### Downloading a webpage\n",
    "\n",
    "* Write code to read in a URL\n",
    "* For a list of URLs, print out the title of each page (ie. don't want any other content or HTML tags)\n",
    "* If you have time write a for loop that can take multiple webpages in one go, to read their titles\n",
    "* Hint: use some of the string manipulation functions in Python (there is no need to use other libraries!)\n"
   ]
  }
 ],
 "metadata": {
  "kernelspec": {
   "display_name": "Python 3 (ipykernel)",
   "language": "python",
   "name": "python3"
  },
  "language_info": {
   "codemirror_mode": {
    "name": "ipython",
    "version": 3
   },
   "file_extension": ".py",
   "mimetype": "text/x-python",
   "name": "python",
   "nbconvert_exporter": "python",
   "pygments_lexer": "ipython3",
   "version": "3.9.7"
  },
  "pycharm": {
   "stem_cell": {
    "cell_type": "raw",
    "metadata": {
     "collapsed": false
    },
    "source": []
   }
  },
  "toc": {
   "base_numbering": 1,
   "nav_menu": {
    "height": "417px",
    "width": "160px"
   },
   "number_sections": true,
   "sideBar": true,
   "skip_h1_title": false,
   "title_cell": "Table of Contents",
   "title_sidebar": "Contents",
   "toc_cell": false,
   "toc_position": {
    "height": "calc(100% - 180px)",
    "left": "10px",
    "top": "150px",
    "width": "280.036px"
   },
   "toc_section_display": true,
   "toc_window_display": true
  }
 },
 "nbformat": 4,
 "nbformat_minor": 2
}
